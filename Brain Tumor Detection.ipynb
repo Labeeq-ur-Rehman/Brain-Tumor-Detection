{
 "cells": [
  {
   "cell_type": "code",
   "execution_count": null,
   "id": "15672cba",
   "metadata": {},
   "outputs": [],
   "source": [
    "from ultralytics import YOLO\n",
    "model = YOLO(\"yolo11n.pt\")\n",
    "train_results = model.train(\n",
    "    data = \"D:/Labeeq/MLProjects/Brain Tumor Detection/Tumor Detection/Tumor Detection.v8i.yolov11/data.yaml\",\n",
    "    epochs = 20,\n",
    "    imgsz = 640,\n",
    "    device = 'cpu',\n",
    ")"
   ]
  },
  {
   "cell_type": "code",
   "execution_count": null,
   "id": "af85b602",
   "metadata": {},
   "outputs": [],
   "source": [
    "from ultralytics import YOLO\n",
    "\n",
    "model = YOLO(\"runs/detect/train/weights/best.pt\")\n",
    "\n",
    "results = model(\"test_images/meningioma_3.jpg\", save = True)\n",
    "results[0].show()"
   ]
  },
  {
   "cell_type": "code",
   "execution_count": null,
   "id": "913c4b88",
   "metadata": {},
   "outputs": [],
   "source": [
    "from ultralytics import YOLO\n",
    "\n",
    "model = YOLO(\"runs/detect/train/weights/best.pt\")\n",
    "\n",
    "results = model(\"test_images\", save = True)"
   ]
  },
  {
   "cell_type": "code",
   "execution_count": null,
   "id": "0d3ea8ac",
   "metadata": {},
   "outputs": [],
   "source": [
    "from ultralytics import YOLO\n",
    "\n",
    "model = YOLO(\"runs/detect/train/weights/best.pt\")\n",
    "\n",
    "results = model(\"test_images/glioma_2.jpg\")\n",
    "\n",
    "for result in results:\n",
    "    boxes = result.boxes\n",
    "    print(boxes)"
   ]
  },
  {
   "cell_type": "code",
   "execution_count": null,
   "id": "833de0dd",
   "metadata": {},
   "outputs": [],
   "source": [
    "from ultralytics import YOLO\n",
    "from ultralytics import SAM\n",
    "\n",
    "yolo_model = YOLO(\"runs/detect/train/weights/best.pt\")\n",
    "\n",
    "results = yolo_model(\"test_images/meningioma_3.jpg\")\n",
    "\n",
    "sam_model = SAM(\"sam2_b.pt\")\n",
    "\n",
    "for result in results:\n",
    "    class_ids = result.boxes.cls.int().tolist()\n",
    "    if len(class_ids):\n",
    "        boxes = result.boxes.xyxy\n",
    "        sam_results = sam_model(result.orig_img, bboxes = boxes, verbose = False, save = True, device = 'cpu')"
   ]
  }
 ],
 "metadata": {
  "language_info": {
   "name": "python"
  }
 },
 "nbformat": 4,
 "nbformat_minor": 5
}
