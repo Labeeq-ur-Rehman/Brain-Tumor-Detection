{
 "cells": [
  {
   "cell_type": "code",
   "execution_count": null,
   "id": "15672cba",
   "metadata": {},
   "outputs": [],
   "source": [
    "from ultralytics import YOLO\n",
    "model = YOLO(\"yolo11n.pt\")\n",
    "train_results = model.train(\n",
    "    data = \"D:/Labeeq/MLProjects/Brain Tumor Detection/Tumor Detection/Tumor Detection.v8i.yolov11/data.yaml\",\n",
    "    epochs = 20,\n",
    "    imgsz = 640,\n",
    "    device = 'cpu',\n",
    ")"
   ]
  }
 ],
 "metadata": {
  "language_info": {
   "name": "python"
  }
 },
 "nbformat": 4,
 "nbformat_minor": 5
}
