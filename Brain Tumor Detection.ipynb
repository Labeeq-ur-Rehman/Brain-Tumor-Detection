{
 "cells": [
  {
   "cell_type": "code",
   "execution_count": 15,
   "id": "4afb1fb9-b5e9-416a-be45-89c5607bddb9",
   "metadata": {},
   "outputs": [
    {
     "name": "stdout",
     "output_type": "stream",
     "text": [
      "Ultralytics 8.3.145  Python-3.10.11 torch-2.7.0+cpu CPU (Intel Core(TM) i5-1035G1 1.00GHz)\n",
      "\u001b[34m\u001b[1mengine\\trainer: \u001b[0magnostic_nms=False, amp=True, augment=False, auto_augment=randaugment, batch=16, bgr=0.0, box=7.5, cache=False, cfg=None, classes=None, close_mosaic=10, cls=0.5, conf=None, copy_paste=0.0, copy_paste_mode=flip, cos_lr=False, cutmix=0.0, data=D:/Labeeq/MLProjects/Brain Tumor Detection/Tumor Detection/Tumor Detection.v8i.yolov11/data.yaml, degrees=0.0, deterministic=True, device=cpu, dfl=1.5, dnn=False, dropout=0.0, dynamic=False, embed=None, epochs=20, erasing=0.4, exist_ok=False, fliplr=0.5, flipud=0.0, format=torchscript, fraction=1.0, freeze=None, half=False, hsv_h=0.015, hsv_s=0.7, hsv_v=0.4, imgsz=640, int8=False, iou=0.7, keras=False, kobj=1.0, line_width=None, lr0=0.01, lrf=0.01, mask_ratio=4, max_det=300, mixup=0.0, mode=train, model=yolo11n.pt, momentum=0.937, mosaic=1.0, multi_scale=False, name=train, nbs=64, nms=False, opset=None, optimize=False, optimizer=auto, overlap_mask=True, patience=100, perspective=0.0, plots=True, pose=12.0, pretrained=True, profile=False, project=None, rect=False, resume=False, retina_masks=False, save=True, save_conf=False, save_crop=False, save_dir=runs\\detect\\train, save_frames=False, save_json=False, save_period=-1, save_txt=False, scale=0.5, seed=0, shear=0.0, show=False, show_boxes=True, show_conf=True, show_labels=True, simplify=True, single_cls=False, source=None, split=val, stream_buffer=False, task=detect, time=None, tracker=botsort.yaml, translate=0.1, val=True, verbose=True, vid_stride=1, visualize=False, warmup_bias_lr=0.1, warmup_epochs=3.0, warmup_momentum=0.8, weight_decay=0.0005, workers=8, workspace=None\n",
      "Downloading https://ultralytics.com/assets/Arial.ttf to 'C:\\Users\\ND.COM\\AppData\\Roaming\\Ultralytics\\Arial.ttf'...\n"
     ]
    },
    {
     "name": "stderr",
     "output_type": "stream",
     "text": [
      "100%|███████████████████████████████████████████████████████████████████████████████| 755k/755k [00:00<00:00, 2.57MB/s]"
     ]
    },
    {
     "name": "stdout",
     "output_type": "stream",
     "text": [
      "Overriding model.yaml nc=80 with nc=5\n",
      "\n",
      "                   from  n    params  module                                       arguments                     \n",
      "  0                  -1  1       464  ultralytics.nn.modules.conv.Conv             [3, 16, 3, 2]                 \n",
      "  1                  -1  1      4672  ultralytics.nn.modules.conv.Conv             [16, 32, 3, 2]                \n",
      "  2                  -1  1      6640  ultralytics.nn.modules.block.C3k2            [32, 64, 1, False, 0.25]      \n",
      "  3                  -1  1     36992  ultralytics.nn.modules.conv.Conv             [64, 64, 3, 2]                \n",
      "  4                  -1  1     26080  ultralytics.nn.modules.block.C3k2            [64, 128, 1, False, 0.25]     \n",
      "  5                  -1  1    147712  ultralytics.nn.modules.conv.Conv             [128, 128, 3, 2]              \n",
      "  6                  -1  1     87040  ultralytics.nn.modules.block.C3k2            [128, 128, 1, True]           \n",
      "  7                  -1  1    295424  ultralytics.nn.modules.conv.Conv             [128, 256, 3, 2]              \n",
      "  8                  -1  1    346112  ultralytics.nn.modules.block.C3k2            [256, 256, 1, True]           \n",
      "  9                  -1  1    164608  ultralytics.nn.modules.block.SPPF            [256, 256, 5]                 \n",
      " 10                  -1  1    249728  ultralytics.nn.modules.block.C2PSA           [256, 256, 1]                 \n",
      " 11                  -1  1         0  torch.nn.modules.upsampling.Upsample         [None, 2, 'nearest']          \n",
      " 12             [-1, 6]  1         0  ultralytics.nn.modules.conv.Concat           [1]                           \n",
      " 13                  -1  1    111296  ultralytics.nn.modules.block.C3k2            [384, 128, 1, False]          \n",
      " 14                  -1  1         0  torch.nn.modules.upsampling.Upsample         [None, 2, 'nearest']          \n",
      " 15             [-1, 4]  1         0  ultralytics.nn.modules.conv.Concat           [1]                           \n",
      " 16                  -1  1     32096  ultralytics.nn.modules.block.C3k2            [256, 64, 1, False]           \n"
     ]
    },
    {
     "name": "stderr",
     "output_type": "stream",
     "text": [
      "\n"
     ]
    },
    {
     "name": "stdout",
     "output_type": "stream",
     "text": [
      " 17                  -1  1     36992  ultralytics.nn.modules.conv.Conv             [64, 64, 3, 2]                \n",
      " 18            [-1, 13]  1         0  ultralytics.nn.modules.conv.Concat           [1]                           \n",
      " 19                  -1  1     86720  ultralytics.nn.modules.block.C3k2            [192, 128, 1, False]          \n",
      " 20                  -1  1    147712  ultralytics.nn.modules.conv.Conv             [128, 128, 3, 2]              \n",
      " 21            [-1, 10]  1         0  ultralytics.nn.modules.conv.Concat           [1]                           \n",
      " 22                  -1  1    378880  ultralytics.nn.modules.block.C3k2            [384, 256, 1, True]           \n",
      " 23        [16, 19, 22]  1    431647  ultralytics.nn.modules.head.Detect           [5, [64, 128, 256]]           \n",
      "YOLO11n summary: 181 layers, 2,590,815 parameters, 2,590,799 gradients, 6.4 GFLOPs\n",
      "\n",
      "Transferred 448/499 items from pretrained weights\n",
      "Freezing layer 'model.23.dfl.conv.weight'\n",
      "\u001b[34m\u001b[1mtrain: \u001b[0mFast image access  (ping: 0.20.0 ms, read: 39.831.9 MB/s, size: 34.0 KB)\n"
     ]
    },
    {
     "name": "stderr",
     "output_type": "stream",
     "text": [
      "\u001b[34m\u001b[1mtrain: \u001b[0mScanning D:\\Labeeq\\MLProjects\\Brain Tumor Detection\\Tumor Detection\\Tumor Detection.v8i.yolov11\\train\\labels... \u001b[0m"
     ]
    },
    {
     "name": "stdout",
     "output_type": "stream",
     "text": [
      "\u001b[34m\u001b[1mtrain: \u001b[0mD:\\Labeeq\\MLProjects\\Brain Tumor Detection\\Tumor Detection\\Tumor Detection.v8i.yolov11\\train\\images\\no_tumor_914_jpg.rf.6714544aee2bde5213fd2c366dff62aa.jpg: 1 duplicate labels removed\n",
      "\u001b[34m\u001b[1mtrain: \u001b[0mNew cache created: D:\\Labeeq\\MLProjects\\Brain Tumor Detection\\Tumor Detection\\Tumor Detection.v8i.yolov11\\train\\labels.cache\n",
      "WARNING Box and segment counts should be equal, but got len(segments) = 1456, len(boxes) = 1461. To resolve this only boxes will be used and all segments will be removed. To avoid this please supply either a detect or segment dataset, not a detect-segment mixed dataset.\n"
     ]
    },
    {
     "name": "stderr",
     "output_type": "stream",
     "text": [
      "\n"
     ]
    },
    {
     "name": "stdout",
     "output_type": "stream",
     "text": [
      "\u001b[34m\u001b[1mval: \u001b[0mFast image access  (ping: 0.10.0 ms, read: 72.15.8 MB/s, size: 29.4 KB)\n"
     ]
    },
    {
     "name": "stderr",
     "output_type": "stream",
     "text": [
      "C:\\Users\\ND.COM\\AppData\\Local\\Packages\\PythonSoftwareFoundation.Python.3.10_qbz5n2kfra8p0\\LocalCache\\local-packages\\Python310\\site-packages\\torch\\utils\\data\\dataloader.py:665: UserWarning: 'pin_memory' argument is set as true but no accelerator is found, then device pinned memory won't be used.\n",
      "  warnings.warn(warn_msg)\n",
      "\u001b[34m\u001b[1mval: \u001b[0mScanning D:\\Labeeq\\MLProjects\\Brain Tumor Detection\\Tumor Detection\\Tumor Detection.v8i.yolov11\\valid\\labels... 39\u001b[0m"
     ]
    },
    {
     "name": "stdout",
     "output_type": "stream",
     "text": [
      "\u001b[34m\u001b[1mval: \u001b[0mNew cache created: D:\\Labeeq\\MLProjects\\Brain Tumor Detection\\Tumor Detection\\Tumor Detection.v8i.yolov11\\valid\\labels.cache\n"
     ]
    },
    {
     "name": "stderr",
     "output_type": "stream",
     "text": [
      "\n",
      "C:\\Users\\ND.COM\\AppData\\Local\\Packages\\PythonSoftwareFoundation.Python.3.10_qbz5n2kfra8p0\\LocalCache\\local-packages\\Python310\\site-packages\\torch\\utils\\data\\dataloader.py:665: UserWarning: 'pin_memory' argument is set as true but no accelerator is found, then device pinned memory won't be used.\n",
      "  warnings.warn(warn_msg)\n"
     ]
    },
    {
     "name": "stdout",
     "output_type": "stream",
     "text": [
      "Plotting labels to runs\\detect\\train\\labels.jpg... \n",
      "\u001b[34m\u001b[1moptimizer:\u001b[0m 'optimizer=auto' found, ignoring 'lr0=0.01' and 'momentum=0.937' and determining best 'optimizer', 'lr0' and 'momentum' automatically... \n",
      "\u001b[34m\u001b[1moptimizer:\u001b[0m AdamW(lr=0.001111, momentum=0.9) with parameter groups 81 weight(decay=0.0), 88 weight(decay=0.0005), 87 bias(decay=0.0)\n",
      "Image sizes 640 train, 640 val\n",
      "Using 0 dataloader workers\n",
      "Logging results to \u001b[1mruns\\detect\\train\u001b[0m\n",
      "Starting training for 20 epochs...\n",
      "\n",
      "      Epoch    GPU_mem   box_loss   cls_loss   dfl_loss  Instances       Size\n"
     ]
    },
    {
     "name": "stderr",
     "output_type": "stream",
     "text": [
      "       1/20         0G     0.9166      3.029      1.288         19        640: 100%|██████████| 86/86 [09:39<00:00,  6.\n",
      "                 Class     Images  Instances      Box(P          R      mAP50  mAP50-95): 100%|██████████| 13/13 [01:01"
     ]
    },
    {
     "name": "stdout",
     "output_type": "stream",
     "text": [
      "                   all        395        415      0.912      0.283      0.423      0.313\n"
     ]
    },
    {
     "name": "stderr",
     "output_type": "stream",
     "text": [
      "\n"
     ]
    },
    {
     "name": "stdout",
     "output_type": "stream",
     "text": [
      "\n",
      "      Epoch    GPU_mem   box_loss   cls_loss   dfl_loss  Instances       Size\n"
     ]
    },
    {
     "name": "stderr",
     "output_type": "stream",
     "text": [
      "       2/20         0G      0.946      2.022      1.279         21        640: 100%|██████████| 86/86 [09:52<00:00,  6.\n",
      "                 Class     Images  Instances      Box(P          R      mAP50  mAP50-95): 100%|██████████| 13/13 [01:00"
     ]
    },
    {
     "name": "stdout",
     "output_type": "stream",
     "text": [
      "                   all        395        415      0.706      0.393      0.438      0.314\n"
     ]
    },
    {
     "name": "stderr",
     "output_type": "stream",
     "text": [
      "\n"
     ]
    },
    {
     "name": "stdout",
     "output_type": "stream",
     "text": [
      "\n",
      "      Epoch    GPU_mem   box_loss   cls_loss   dfl_loss  Instances       Size\n"
     ]
    },
    {
     "name": "stderr",
     "output_type": "stream",
     "text": [
      "       3/20         0G     0.9491      1.738      1.277         27        640: 100%|██████████| 86/86 [09:53<00:00,  6.\n",
      "                 Class     Images  Instances      Box(P          R      mAP50  mAP50-95): 100%|██████████| 13/13 [00:59"
     ]
    },
    {
     "name": "stdout",
     "output_type": "stream",
     "text": [
      "                   all        395        415      0.521      0.345      0.319      0.207\n"
     ]
    },
    {
     "name": "stderr",
     "output_type": "stream",
     "text": [
      "\n"
     ]
    },
    {
     "name": "stdout",
     "output_type": "stream",
     "text": [
      "\n",
      "      Epoch    GPU_mem   box_loss   cls_loss   dfl_loss  Instances       Size\n"
     ]
    },
    {
     "name": "stderr",
     "output_type": "stream",
     "text": [
      "       4/20         0G     0.9606      1.538      1.295         29        640: 100%|██████████| 86/86 [10:21<00:00,  7.\n",
      "                 Class     Images  Instances      Box(P          R      mAP50  mAP50-95): 100%|██████████| 13/13 [01:01"
     ]
    },
    {
     "name": "stdout",
     "output_type": "stream",
     "text": [
      "                   all        395        415      0.651      0.334      0.354      0.233\n"
     ]
    },
    {
     "name": "stderr",
     "output_type": "stream",
     "text": [
      "\n"
     ]
    },
    {
     "name": "stdout",
     "output_type": "stream",
     "text": [
      "\n",
      "      Epoch    GPU_mem   box_loss   cls_loss   dfl_loss  Instances       Size\n"
     ]
    },
    {
     "name": "stderr",
     "output_type": "stream",
     "text": [
      "       5/20         0G     0.8948      1.349      1.243         19        640: 100%|██████████| 86/86 [09:17<00:00,  6.\n",
      "                 Class     Images  Instances      Box(P          R      mAP50  mAP50-95): 100%|██████████| 13/13 [00:56"
     ]
    },
    {
     "name": "stdout",
     "output_type": "stream",
     "text": [
      "                   all        395        415      0.817      0.495      0.559      0.415\n"
     ]
    },
    {
     "name": "stderr",
     "output_type": "stream",
     "text": [
      "\n"
     ]
    },
    {
     "name": "stdout",
     "output_type": "stream",
     "text": [
      "\n",
      "      Epoch    GPU_mem   box_loss   cls_loss   dfl_loss  Instances       Size\n"
     ]
    },
    {
     "name": "stderr",
     "output_type": "stream",
     "text": [
      "       6/20         0G     0.8837      1.187      1.242         13        640: 100%|██████████| 86/86 [09:07<00:00,  6.\n",
      "                 Class     Images  Instances      Box(P          R      mAP50  mAP50-95): 100%|██████████| 13/13 [00:57"
     ]
    },
    {
     "name": "stdout",
     "output_type": "stream",
     "text": [
      "                   all        395        415      0.731      0.498      0.535      0.388\n"
     ]
    },
    {
     "name": "stderr",
     "output_type": "stream",
     "text": [
      "\n"
     ]
    },
    {
     "name": "stdout",
     "output_type": "stream",
     "text": [
      "\n",
      "      Epoch    GPU_mem   box_loss   cls_loss   dfl_loss  Instances       Size\n"
     ]
    },
    {
     "name": "stderr",
     "output_type": "stream",
     "text": [
      "       7/20         0G     0.8578      1.106      1.222         15        640: 100%|██████████| 86/86 [09:10<00:00,  6.\n",
      "                 Class     Images  Instances      Box(P          R      mAP50  mAP50-95): 100%|██████████| 13/13 [00:56"
     ]
    },
    {
     "name": "stdout",
     "output_type": "stream",
     "text": [
      "                   all        395        415      0.824       0.57      0.614      0.449\n"
     ]
    },
    {
     "name": "stderr",
     "output_type": "stream",
     "text": [
      "\n"
     ]
    },
    {
     "name": "stdout",
     "output_type": "stream",
     "text": [
      "\n",
      "      Epoch    GPU_mem   box_loss   cls_loss   dfl_loss  Instances       Size\n"
     ]
    },
    {
     "name": "stderr",
     "output_type": "stream",
     "text": [
      "       8/20         0G     0.8663      1.052      1.217         12        640: 100%|██████████| 86/86 [09:31<00:00,  6.\n",
      "                 Class     Images  Instances      Box(P          R      mAP50  mAP50-95): 100%|██████████| 13/13 [00:57"
     ]
    },
    {
     "name": "stdout",
     "output_type": "stream",
     "text": [
      "                   all        395        415      0.659      0.521      0.553      0.424\n"
     ]
    },
    {
     "name": "stderr",
     "output_type": "stream",
     "text": [
      "\n"
     ]
    },
    {
     "name": "stdout",
     "output_type": "stream",
     "text": [
      "\n",
      "      Epoch    GPU_mem   box_loss   cls_loss   dfl_loss  Instances       Size\n"
     ]
    },
    {
     "name": "stderr",
     "output_type": "stream",
     "text": [
      "       9/20         0G     0.7875     0.9659      1.184         13        640: 100%|██████████| 86/86 [09:53<00:00,  6.\n",
      "                 Class     Images  Instances      Box(P          R      mAP50  mAP50-95): 100%|██████████| 13/13 [01:02"
     ]
    },
    {
     "name": "stdout",
     "output_type": "stream",
     "text": [
      "                   all        395        415      0.817       0.56      0.598      0.445\n"
     ]
    },
    {
     "name": "stderr",
     "output_type": "stream",
     "text": [
      "\n"
     ]
    },
    {
     "name": "stdout",
     "output_type": "stream",
     "text": [
      "\n",
      "      Epoch    GPU_mem   box_loss   cls_loss   dfl_loss  Instances       Size\n"
     ]
    },
    {
     "name": "stderr",
     "output_type": "stream",
     "text": [
      "      10/20         0G     0.8055     0.9472      1.192         21        640: 100%|██████████| 86/86 [09:16<00:00,  6.\n",
      "                 Class     Images  Instances      Box(P          R      mAP50  mAP50-95): 100%|██████████| 13/13 [00:57"
     ]
    },
    {
     "name": "stdout",
     "output_type": "stream",
     "text": [
      "                   all        395        415      0.762      0.595      0.605      0.462\n"
     ]
    },
    {
     "name": "stderr",
     "output_type": "stream",
     "text": [
      "\n"
     ]
    },
    {
     "name": "stdout",
     "output_type": "stream",
     "text": [
      "Closing dataloader mosaic\n",
      "\n",
      "      Epoch    GPU_mem   box_loss   cls_loss   dfl_loss  Instances       Size\n"
     ]
    },
    {
     "name": "stderr",
     "output_type": "stream",
     "text": [
      "C:\\Users\\ND.COM\\AppData\\Local\\Packages\\PythonSoftwareFoundation.Python.3.10_qbz5n2kfra8p0\\LocalCache\\local-packages\\Python310\\site-packages\\torch\\utils\\data\\dataloader.py:665: UserWarning: 'pin_memory' argument is set as true but no accelerator is found, then device pinned memory won't be used.\n",
      "  warnings.warn(warn_msg)\n",
      "      11/20         0G     0.7144     0.9515      1.156         10        640: 100%|██████████| 86/86 [10:14<00:00,  7.\n",
      "                 Class     Images  Instances      Box(P          R      mAP50  mAP50-95): 100%|██████████| 13/13 [01:02"
     ]
    },
    {
     "name": "stdout",
     "output_type": "stream",
     "text": [
      "                   all        395        415      0.833      0.607       0.63      0.484\n"
     ]
    },
    {
     "name": "stderr",
     "output_type": "stream",
     "text": [
      "\n"
     ]
    },
    {
     "name": "stdout",
     "output_type": "stream",
     "text": [
      "\n",
      "      Epoch    GPU_mem   box_loss   cls_loss   dfl_loss  Instances       Size\n"
     ]
    },
    {
     "name": "stderr",
     "output_type": "stream",
     "text": [
      "      12/20         0G       0.69      0.847      1.146         14        640: 100%|██████████| 86/86 [09:21<00:00,  6.\n",
      "                 Class     Images  Instances      Box(P          R      mAP50  mAP50-95): 100%|██████████| 13/13 [01:04"
     ]
    },
    {
     "name": "stdout",
     "output_type": "stream",
     "text": [
      "                   all        395        415      0.854      0.566      0.617      0.472\n"
     ]
    },
    {
     "name": "stderr",
     "output_type": "stream",
     "text": [
      "\n"
     ]
    },
    {
     "name": "stdout",
     "output_type": "stream",
     "text": [
      "\n",
      "      Epoch    GPU_mem   box_loss   cls_loss   dfl_loss  Instances       Size\n"
     ]
    },
    {
     "name": "stderr",
     "output_type": "stream",
     "text": [
      "      13/20         0G     0.6715      0.792      1.119         10        640: 100%|██████████| 86/86 [10:32<00:00,  7.\n",
      "                 Class     Images  Instances      Box(P          R      mAP50  mAP50-95): 100%|██████████| 13/13 [01:03"
     ]
    },
    {
     "name": "stdout",
     "output_type": "stream",
     "text": [
      "                   all        395        415       0.78      0.611      0.617       0.48\n"
     ]
    },
    {
     "name": "stderr",
     "output_type": "stream",
     "text": [
      "\n"
     ]
    },
    {
     "name": "stdout",
     "output_type": "stream",
     "text": [
      "\n",
      "      Epoch    GPU_mem   box_loss   cls_loss   dfl_loss  Instances       Size\n"
     ]
    },
    {
     "name": "stderr",
     "output_type": "stream",
     "text": [
      "      14/20         0G     0.6391     0.7349      1.092         10        640: 100%|██████████| 86/86 [09:16<00:00,  6.\n",
      "                 Class     Images  Instances      Box(P          R      mAP50  mAP50-95): 100%|██████████| 13/13 [00:59"
     ]
    },
    {
     "name": "stdout",
     "output_type": "stream",
     "text": [
      "                   all        395        415       0.85      0.613       0.64      0.504\n"
     ]
    },
    {
     "name": "stderr",
     "output_type": "stream",
     "text": [
      "\n"
     ]
    },
    {
     "name": "stdout",
     "output_type": "stream",
     "text": [
      "\n",
      "      Epoch    GPU_mem   box_loss   cls_loss   dfl_loss  Instances       Size\n"
     ]
    },
    {
     "name": "stderr",
     "output_type": "stream",
     "text": [
      "      15/20         0G     0.6063      0.697      1.079         13        640: 100%|██████████| 86/86 [08:57<00:00,  6.\n",
      "                 Class     Images  Instances      Box(P          R      mAP50  mAP50-95): 100%|██████████| 13/13 [00:57"
     ]
    },
    {
     "name": "stdout",
     "output_type": "stream",
     "text": [
      "                   all        395        415      0.868      0.584      0.633      0.507\n"
     ]
    },
    {
     "name": "stderr",
     "output_type": "stream",
     "text": [
      "\n"
     ]
    },
    {
     "name": "stdout",
     "output_type": "stream",
     "text": [
      "\n",
      "      Epoch    GPU_mem   box_loss   cls_loss   dfl_loss  Instances       Size\n"
     ]
    },
    {
     "name": "stderr",
     "output_type": "stream",
     "text": [
      "      16/20         0G     0.5997     0.6698      1.072         10        640: 100%|██████████| 86/86 [08:51<00:00,  6.\n",
      "                 Class     Images  Instances      Box(P          R      mAP50  mAP50-95): 100%|██████████| 13/13 [00:59"
     ]
    },
    {
     "name": "stdout",
     "output_type": "stream",
     "text": [
      "                   all        395        415      0.863      0.598      0.649      0.522\n"
     ]
    },
    {
     "name": "stderr",
     "output_type": "stream",
     "text": [
      "\n"
     ]
    },
    {
     "name": "stdout",
     "output_type": "stream",
     "text": [
      "\n",
      "      Epoch    GPU_mem   box_loss   cls_loss   dfl_loss  Instances       Size\n"
     ]
    },
    {
     "name": "stderr",
     "output_type": "stream",
     "text": [
      "      17/20         0G      0.567     0.6174      1.045         10        640: 100%|██████████| 86/86 [09:06<00:00,  6.\n",
      "                 Class     Images  Instances      Box(P          R      mAP50  mAP50-95): 100%|██████████| 13/13 [00:53"
     ]
    },
    {
     "name": "stdout",
     "output_type": "stream",
     "text": [
      "                   all        395        415      0.873      0.588       0.64      0.509\n"
     ]
    },
    {
     "name": "stderr",
     "output_type": "stream",
     "text": [
      "\n"
     ]
    },
    {
     "name": "stdout",
     "output_type": "stream",
     "text": [
      "\n",
      "      Epoch    GPU_mem   box_loss   cls_loss   dfl_loss  Instances       Size\n"
     ]
    },
    {
     "name": "stderr",
     "output_type": "stream",
     "text": [
      "      18/20         0G     0.5495     0.5872      1.033         12        640: 100%|██████████| 86/86 [08:50<00:00,  6.\n",
      "                 Class     Images  Instances      Box(P          R      mAP50  mAP50-95): 100%|██████████| 13/13 [00:55"
     ]
    },
    {
     "name": "stdout",
     "output_type": "stream",
     "text": [
      "                   all        395        415      0.902        0.6      0.656      0.531\n"
     ]
    },
    {
     "name": "stderr",
     "output_type": "stream",
     "text": [
      "\n"
     ]
    },
    {
     "name": "stdout",
     "output_type": "stream",
     "text": [
      "\n",
      "      Epoch    GPU_mem   box_loss   cls_loss   dfl_loss  Instances       Size\n"
     ]
    },
    {
     "name": "stderr",
     "output_type": "stream",
     "text": [
      "      19/20         0G     0.5388      0.568      1.034         10        640: 100%|██████████| 86/86 [09:00<00:00,  6.\n",
      "                 Class     Images  Instances      Box(P          R      mAP50  mAP50-95): 100%|██████████| 13/13 [00:56"
     ]
    },
    {
     "name": "stdout",
     "output_type": "stream",
     "text": [
      "                   all        395        415      0.907      0.615      0.663      0.539\n"
     ]
    },
    {
     "name": "stderr",
     "output_type": "stream",
     "text": [
      "\n"
     ]
    },
    {
     "name": "stdout",
     "output_type": "stream",
     "text": [
      "\n",
      "      Epoch    GPU_mem   box_loss   cls_loss   dfl_loss  Instances       Size\n"
     ]
    },
    {
     "name": "stderr",
     "output_type": "stream",
     "text": [
      "      20/20         0G     0.5159     0.5433      1.026         12        640: 100%|██████████| 86/86 [09:20<00:00,  6.\n",
      "                 Class     Images  Instances      Box(P          R      mAP50  mAP50-95): 100%|██████████| 13/13 [00:58"
     ]
    },
    {
     "name": "stdout",
     "output_type": "stream",
     "text": [
      "                   all        395        415      0.864      0.637      0.654      0.542\n"
     ]
    },
    {
     "name": "stderr",
     "output_type": "stream",
     "text": [
      "\n"
     ]
    },
    {
     "name": "stdout",
     "output_type": "stream",
     "text": [
      "\n",
      "20 epochs completed in 3.491 hours.\n",
      "Optimizer stripped from runs\\detect\\train\\weights\\last.pt, 5.5MB\n",
      "Optimizer stripped from runs\\detect\\train\\weights\\best.pt, 5.5MB\n",
      "\n",
      "Validating runs\\detect\\train\\weights\\best.pt...\n",
      "Ultralytics 8.3.145  Python-3.10.11 torch-2.7.0+cpu CPU (Intel Core(TM) i5-1035G1 1.00GHz)\n",
      "YOLO11n summary (fused): 100 layers, 2,583,127 parameters, 0 gradients, 6.3 GFLOPs\n"
     ]
    },
    {
     "name": "stderr",
     "output_type": "stream",
     "text": [
      "                 Class     Images  Instances      Box(P          R      mAP50  mAP50-95): 100%|██████████| 13/13 [00:49\n"
     ]
    },
    {
     "name": "stdout",
     "output_type": "stream",
     "text": [
      "                   all        395        415       0.86      0.638      0.654      0.542\n",
      "              NO_tumor        115        116      0.934      0.991      0.986      0.822\n",
      "                glioma         30         36        0.7      0.556      0.538      0.382\n",
      "            meningioma        144        148      0.905      0.932      0.942      0.834\n",
      "             pituitary        106        111      0.759      0.711      0.792      0.664\n",
      "space-occupying lesion-          1          4          1          0    0.00982    0.00661\n",
      "Speed: 2.2ms preprocess, 109.4ms inference, 0.0ms loss, 1.0ms postprocess per image\n",
      "Results saved to \u001b[1mruns\\detect\\train\u001b[0m\n"
     ]
    }
   ],
   "source": [
    "from ultralytics import YOLO\n",
    "model = YOLO(\"yolo11n.pt\")\n",
    "train_results = model.train(\n",
    "    data = \"D:/Labeeq/MLProjects/Brain Tumor Detection/Tumor Detection/Tumor Detection.v8i.yolov11/data.yaml\",\n",
    "    epochs = 20,\n",
    "    imgsz = 640,\n",
    "    device = 'cpu',\n",
    ")"
   ]
  },
  {
   "cell_type": "code",
   "execution_count": 16,
   "id": "6099266b-05cd-46c5-9b66-0c4bbfb3e4a2",
   "metadata": {
    "scrolled": true
   },
   "outputs": [
    {
     "name": "stdout",
     "output_type": "stream",
     "text": [
      "\n",
      "image 1/1 D:\\Labeeq\\MLProjects\\Brain Tumor Detection\\test_images\\meningioma_3.jpg: 640x640 1 meningioma, 229.5ms\n",
      "Speed: 5.7ms preprocess, 229.5ms inference, 3.0ms postprocess per image at shape (1, 3, 640, 640)\n",
      "Results saved to \u001b[1mruns\\detect\\predict\u001b[0m\n"
     ]
    }
   ],
   "source": [
    "from ultralytics import YOLO\n",
    "\n",
    "model = YOLO(\"runs/detect/train/weights/best.pt\")\n",
    "\n",
    "results = model(\"test_images/meningioma_3.jpg\", save = True)\n",
    "results[0].show()"
   ]
  },
  {
   "cell_type": "code",
   "execution_count": 17,
   "id": "4346ab39-df0f-47eb-827a-ba53b299adbc",
   "metadata": {},
   "outputs": [
    {
     "name": "stdout",
     "output_type": "stream",
     "text": [
      "\n",
      "image 1/4 D:\\Labeeq\\MLProjects\\Brain Tumor Detection\\test_images\\glioma_2.jpg: 640x640 2 gliomas, 137.7ms\n",
      "image 2/4 D:\\Labeeq\\MLProjects\\Brain Tumor Detection\\test_images\\meningioma_3.jpg: 640x640 1 meningioma, 129.6ms\n",
      "image 3/4 D:\\Labeeq\\MLProjects\\Brain Tumor Detection\\test_images\\no_tumor_1.jpg: 640x640 1 NO_tumor, 128.9ms\n",
      "image 4/4 D:\\Labeeq\\MLProjects\\Brain Tumor Detection\\test_images\\pituitary_5.jpg: 640x640 1 pituitary, 129.4ms\n",
      "Speed: 2.7ms preprocess, 131.4ms inference, 1.7ms postprocess per image at shape (1, 3, 640, 640)\n",
      "Results saved to \u001b[1mruns\\detect\\predict2\u001b[0m\n"
     ]
    }
   ],
   "source": [
    "from ultralytics import YOLO\n",
    "\n",
    "model = YOLO(\"runs/detect/train/weights/best.pt\")\n",
    "\n",
    "results = model(\"test_images\", save = True)"
   ]
  },
  {
   "cell_type": "code",
   "execution_count": 18,
   "id": "d5ff1812-76c6-4fce-99ff-8a68761d5333",
   "metadata": {},
   "outputs": [
    {
     "name": "stdout",
     "output_type": "stream",
     "text": [
      "\n",
      "image 1/1 D:\\Labeeq\\MLProjects\\Brain Tumor Detection\\test_images\\glioma_2.jpg: 640x640 2 gliomas, 141.2ms\n",
      "Speed: 3.5ms preprocess, 141.2ms inference, 1.6ms postprocess per image at shape (1, 3, 640, 640)\n",
      "ultralytics.engine.results.Boxes object with attributes:\n",
      "\n",
      "cls: tensor([1., 1.])\n",
      "conf: tensor([0.8682, 0.4047])\n",
      "data: tensor([[2.7339e+02, 4.2078e+02, 3.1466e+02, 4.4492e+02, 8.6820e-01, 1.0000e+00],\n",
      "        [2.9906e+02, 3.2187e+02, 3.1745e+02, 3.3243e+02, 4.0474e-01, 1.0000e+00]])\n",
      "id: None\n",
      "is_track: False\n",
      "orig_shape: (640, 640)\n",
      "shape: torch.Size([2, 6])\n",
      "xywh: tensor([[294.0246, 432.8473,  41.2688,  24.1433],\n",
      "        [308.2515, 327.1495,  18.3882,  10.5616]])\n",
      "xywhn: tensor([[0.4594, 0.6763, 0.0645, 0.0377],\n",
      "        [0.4816, 0.5112, 0.0287, 0.0165]])\n",
      "xyxy: tensor([[273.3902, 420.7757, 314.6590, 444.9190],\n",
      "        [299.0574, 321.8687, 317.4456, 332.4303]])\n",
      "xyxyn: tensor([[0.4272, 0.6575, 0.4917, 0.6952],\n",
      "        [0.4673, 0.5029, 0.4960, 0.5194]])\n"
     ]
    }
   ],
   "source": [
    "from ultralytics import YOLO\n",
    "\n",
    "model = YOLO(\"runs/detect/train/weights/best.pt\")\n",
    "\n",
    "results = model(\"test_images/glioma_2.jpg\")\n",
    "\n",
    "for result in results:\n",
    "    boxes = result.boxes\n",
    "    print(boxes)"
   ]
  },
  {
   "cell_type": "code",
   "execution_count": 19,
   "id": "7e1fb741-4267-4727-b7d8-0a6ca593c972",
   "metadata": {},
   "outputs": [
    {
     "name": "stdout",
     "output_type": "stream",
     "text": [
      "\n",
      "image 1/1 D:\\Labeeq\\MLProjects\\Brain Tumor Detection\\test_images\\meningioma_3.jpg: 640x640 1 meningioma, 135.0ms\n",
      "Speed: 4.4ms preprocess, 135.0ms inference, 1.8ms postprocess per image at shape (1, 3, 640, 640)\n",
      "Downloading https://github.com/ultralytics/assets/releases/download/v8.3.0/sam2_b.pt to 'sam2_b.pt'...\n"
     ]
    },
    {
     "name": "stderr",
     "output_type": "stream",
     "text": [
      "100%|███████████████████████████████████████████████████████████████████████████████| 154M/154M [01:07<00:00, 2.40MB/s]\n"
     ]
    },
    {
     "name": "stdout",
     "output_type": "stream",
     "text": [
      "Results saved to \u001b[1mruns\\segment\\predict\u001b[0m\n"
     ]
    }
   ],
   "source": [
    "from ultralytics import YOLO\n",
    "from ultralytics import SAM\n",
    "\n",
    "yolo_model = YOLO(\"runs/detect/train/weights/best.pt\")\n",
    "\n",
    "results = yolo_model(\"test_images/meningioma_3.jpg\")\n",
    "\n",
    "sam_model = SAM(\"sam2_b.pt\")\n",
    "\n",
    "for result in results:\n",
    "    class_ids = result.boxes.cls.int().tolist()\n",
    "    if len(class_ids):\n",
    "        boxes = result.boxes.xyxy\n",
    "        sam_results = sam_model(result.orig_img, bboxes = boxes, verbose = False, save = True, device = 'cpu')"
   ]
  },
  {
   "cell_type": "code",
   "execution_count": 21,
   "id": "ffe0854c-8fb2-4861-b7e9-b2609a6c53f1",
   "metadata": {},
   "outputs": [
    {
     "name": "stdout",
     "output_type": "stream",
     "text": [
      "\n",
      "image 1/191 D:\\Labeeq\\MLProjects\\Brain Tumor Detection\\test\\images\\glioma_1025_jpg.rf.16f677de0fc84afa6b702f2fb8bdb3c2.jpg: 640x640 1 glioma, 128.6ms\n",
      "image 2/191 D:\\Labeeq\\MLProjects\\Brain Tumor Detection\\test\\images\\glioma_1128_jpg.rf.e50d9e41b37fb138368e116b69077ff7.jpg: 640x640 2 meningiomas, 127.2ms\n",
      "image 3/191 D:\\Labeeq\\MLProjects\\Brain Tumor Detection\\test\\images\\glioma_1166_jpg.rf.493c4f22cb16b11580eabec42f51c3de.jpg: 640x640 1 meningioma, 135.4ms\n",
      "image 4/191 D:\\Labeeq\\MLProjects\\Brain Tumor Detection\\test\\images\\glioma_1246_jpg.rf.af4ca1f2e92bf1e7df0360136f128877.jpg: 640x640 3 gliomas, 126.3ms\n",
      "image 5/191 D:\\Labeeq\\MLProjects\\Brain Tumor Detection\\test\\images\\glioma_20_jpg.rf.8fdf825f9ca269bc07429aee7781e8d9.jpg: 640x640 1 glioma, 115.5ms\n",
      "image 6/191 D:\\Labeeq\\MLProjects\\Brain Tumor Detection\\test\\images\\glioma_271_jpg.rf.6bc0439160ce05a380aa64a2dbac9a3c.jpg: 640x640 2 gliomas, 146.1ms\n",
      "image 7/191 D:\\Labeeq\\MLProjects\\Brain Tumor Detection\\test\\images\\glioma_303_jpg.rf.6410c94058edf9c93866ef5805b93160.jpg: 640x640 3 gliomas, 125.2ms\n",
      "image 8/191 D:\\Labeeq\\MLProjects\\Brain Tumor Detection\\test\\images\\glioma_415_jpg.rf.5205038d338b9add63b4ac6bc7840027.jpg: 640x640 2 gliomas, 119.6ms\n",
      "image 9/191 D:\\Labeeq\\MLProjects\\Brain Tumor Detection\\test\\images\\glioma_624_jpg.rf.e51599649cf4bd18cc5753bba45d7f0e.jpg: 640x640 1 glioma, 115.9ms\n",
      "image 10/191 D:\\Labeeq\\MLProjects\\Brain Tumor Detection\\test\\images\\glioma_645_jpg.rf.174c938c3c03cce8d6443bf84d42ee72.jpg: 640x640 2 gliomas, 116.2ms\n",
      "image 11/191 D:\\Labeeq\\MLProjects\\Brain Tumor Detection\\test\\images\\glioma_908_jpg.rf.cfc35d69a18fa2e2108e0b3bd341c50c.jpg: 640x640 1 glioma, 106.2ms\n",
      "image 12/191 D:\\Labeeq\\MLProjects\\Brain Tumor Detection\\test\\images\\meningioma_1022_jpg.rf.a3ae957a204e1f240de0d48f7c95c0aa.jpg: 640x640 1 meningioma, 109.7ms\n",
      "image 13/191 D:\\Labeeq\\MLProjects\\Brain Tumor Detection\\test\\images\\meningioma_1033_jpg.rf.57939da16374670b0b8dec09780efd05.jpg: 640x640 1 meningioma, 111.7ms\n",
      "image 14/191 D:\\Labeeq\\MLProjects\\Brain Tumor Detection\\test\\images\\meningioma_1038_jpg.rf.1bbe682f1f254698336b40c2fcfb98f6.jpg: 640x640 1 meningioma, 116.6ms\n",
      "image 15/191 D:\\Labeeq\\MLProjects\\Brain Tumor Detection\\test\\images\\meningioma_1055_jpg.rf.bffdededf71b2dd1ddd58a85b19dc551.jpg: 640x640 1 meningioma, 127.5ms\n",
      "image 16/191 D:\\Labeeq\\MLProjects\\Brain Tumor Detection\\test\\images\\meningioma_1057_jpg.rf.4c14d3d33c6af38b5046c327a1d6fe82.jpg: 640x640 1 meningioma, 125.4ms\n",
      "image 17/191 D:\\Labeeq\\MLProjects\\Brain Tumor Detection\\test\\images\\meningioma_105_jpg.rf.ef2d90a43b6afbd4e3a485e7a2219fda.jpg: 640x640 1 meningioma, 126.0ms\n",
      "image 18/191 D:\\Labeeq\\MLProjects\\Brain Tumor Detection\\test\\images\\meningioma_1101_jpg.rf.253806a463b5efbefe18701576c15ff4.jpg: 640x640 1 meningioma, 188.6ms\n",
      "image 19/191 D:\\Labeeq\\MLProjects\\Brain Tumor Detection\\test\\images\\meningioma_1115_jpg.rf.5146653487f833e54a1d3a8f3e210387.jpg: 640x640 1 meningioma, 110.7ms\n",
      "image 20/191 D:\\Labeeq\\MLProjects\\Brain Tumor Detection\\test\\images\\meningioma_112_jpg.rf.d1496e2f31ce31292b3fc97dc8953c4d.jpg: 640x640 1 pituitary, 107.2ms\n",
      "image 21/191 D:\\Labeeq\\MLProjects\\Brain Tumor Detection\\test\\images\\meningioma_1133_jpg.rf.bcb616100e43747741b4edb241a1eb31.jpg: 640x640 2 meningiomas, 113.8ms\n",
      "image 22/191 D:\\Labeeq\\MLProjects\\Brain Tumor Detection\\test\\images\\meningioma_1145_jpg.rf.14cad1f9efb3cad690ed0048b9172566.jpg: 640x640 1 meningioma, 159.9ms\n",
      "image 23/191 D:\\Labeeq\\MLProjects\\Brain Tumor Detection\\test\\images\\meningioma_1146_jpg.rf.592064ff6852418fe428a228a7c14458.jpg: 640x640 1 glioma, 1 meningioma, 125.2ms\n",
      "image 24/191 D:\\Labeeq\\MLProjects\\Brain Tumor Detection\\test\\images\\meningioma_1152_jpg.rf.2c46dd587317f2b9c5e9a2c5de430451.jpg: 640x640 1 meningioma, 115.9ms\n",
      "image 25/191 D:\\Labeeq\\MLProjects\\Brain Tumor Detection\\test\\images\\meningioma_1181_jpg.rf.f6ebc3264691728d18b4a7d9d8db310f.jpg: 640x640 1 meningioma, 110.1ms\n",
      "image 26/191 D:\\Labeeq\\MLProjects\\Brain Tumor Detection\\test\\images\\meningioma_1230_jpg.rf.f495e43146e066014a65bc6857d37823.jpg: 640x640 1 meningioma, 115.9ms\n",
      "image 27/191 D:\\Labeeq\\MLProjects\\Brain Tumor Detection\\test\\images\\meningioma_1275_jpg.rf.b6e2bcb7f2860b9342ce2444dce38be6.jpg: 640x640 1 meningioma, 117.3ms\n",
      "image 28/191 D:\\Labeeq\\MLProjects\\Brain Tumor Detection\\test\\images\\meningioma_1295_jpg.rf.0359f711e7b531e5f1f4ab9f40760d7e.jpg: 640x640 1 meningioma, 113.1ms\n",
      "image 29/191 D:\\Labeeq\\MLProjects\\Brain Tumor Detection\\test\\images\\meningioma_1298_jpg.rf.7484c4423bea2e37fbc43e95a6efe49d.jpg: 640x640 1 meningioma, 111.3ms\n",
      "image 30/191 D:\\Labeeq\\MLProjects\\Brain Tumor Detection\\test\\images\\meningioma_1303_jpg.rf.32f0d7da2dc56921fe8ec643c33e4208.jpg: 640x640 1 meningioma, 113.2ms\n",
      "image 31/191 D:\\Labeeq\\MLProjects\\Brain Tumor Detection\\test\\images\\meningioma_1305_jpg.rf.b92edc12dcc851975e05fb8183f7e852.jpg: 640x640 1 meningioma, 113.2ms\n",
      "image 32/191 D:\\Labeeq\\MLProjects\\Brain Tumor Detection\\test\\images\\meningioma_135_jpg.rf.b1bd93c944be730f116109de74a88bb5.jpg: 640x640 1 meningioma, 112.3ms\n",
      "image 33/191 D:\\Labeeq\\MLProjects\\Brain Tumor Detection\\test\\images\\meningioma_154_jpg.rf.15a3986c3f2fa6680c43d5c864808d30.jpg: 640x640 1 meningioma, 110.6ms\n",
      "image 34/191 D:\\Labeeq\\MLProjects\\Brain Tumor Detection\\test\\images\\meningioma_162_jpg.rf.dc05b1f671232ea65449633717169354.jpg: 640x640 1 meningioma, 118.2ms\n",
      "image 35/191 D:\\Labeeq\\MLProjects\\Brain Tumor Detection\\test\\images\\meningioma_166_jpg.rf.553ccdb53cbacf921f31c01505446091.jpg: 640x640 1 meningioma, 110.3ms\n",
      "image 36/191 D:\\Labeeq\\MLProjects\\Brain Tumor Detection\\test\\images\\meningioma_182_jpg.rf.9879ad775852115c396699d01a14715e.jpg: 640x640 1 meningioma, 111.4ms\n",
      "image 37/191 D:\\Labeeq\\MLProjects\\Brain Tumor Detection\\test\\images\\meningioma_192_jpg.rf.0d871ff33594ea86b9df94bc06aaea95.jpg: 640x640 1 meningioma, 112.9ms\n",
      "image 38/191 D:\\Labeeq\\MLProjects\\Brain Tumor Detection\\test\\images\\meningioma_217_jpg.rf.66362d374e2b7e952fd5b9bcdaac4a61.jpg: 640x640 1 meningioma, 105.1ms\n",
      "image 39/191 D:\\Labeeq\\MLProjects\\Brain Tumor Detection\\test\\images\\meningioma_235_jpg.rf.3c0aa5bd40ba10e3788b0bd2fb247a7f.jpg: 640x640 1 meningioma, 113.7ms\n",
      "image 40/191 D:\\Labeeq\\MLProjects\\Brain Tumor Detection\\test\\images\\meningioma_262_jpg.rf.2554ed8c62ea72b2d25ecd98c4beaa88.jpg: 640x640 1 meningioma, 115.1ms\n",
      "image 41/191 D:\\Labeeq\\MLProjects\\Brain Tumor Detection\\test\\images\\meningioma_266_jpg.rf.69827cc77ab46c07c7d00774b55523c2.jpg: 640x640 1 meningioma, 111.8ms\n",
      "image 42/191 D:\\Labeeq\\MLProjects\\Brain Tumor Detection\\test\\images\\meningioma_304_jpg.rf.b8b5bc1e6b5a64ebff6cbb401f8552e4.jpg: 640x640 1 pituitary, 115.6ms\n",
      "image 43/191 D:\\Labeeq\\MLProjects\\Brain Tumor Detection\\test\\images\\meningioma_30_jpg.rf.4dddd0b0f30f68d88d8e8d697b3368c2.jpg: 640x640 1 meningioma, 109.7ms\n",
      "image 44/191 D:\\Labeeq\\MLProjects\\Brain Tumor Detection\\test\\images\\meningioma_323_jpg.rf.7d2c9c94a9e41d9ffd266795cad9ab06.jpg: 640x640 1 meningioma, 110.7ms\n",
      "image 45/191 D:\\Labeeq\\MLProjects\\Brain Tumor Detection\\test\\images\\meningioma_34_jpg.rf.4a3797c5c104b735b14bbb40b91527ee.jpg: 640x640 1 meningioma, 109.4ms\n",
      "image 46/191 D:\\Labeeq\\MLProjects\\Brain Tumor Detection\\test\\images\\meningioma_358_jpg.rf.34deaadaef565c5b4e85304541c517dc.jpg: 640x640 1 meningioma, 113.7ms\n",
      "image 47/191 D:\\Labeeq\\MLProjects\\Brain Tumor Detection\\test\\images\\meningioma_365_jpg.rf.b7d9b7522b1d683291b7b6992cb6a46f.jpg: 640x640 1 meningioma, 113.5ms\n",
      "image 48/191 D:\\Labeeq\\MLProjects\\Brain Tumor Detection\\test\\images\\meningioma_374_jpg.rf.c83034c04737583198e66d39a338e7fe.jpg: 640x640 1 meningioma, 111.6ms\n",
      "image 49/191 D:\\Labeeq\\MLProjects\\Brain Tumor Detection\\test\\images\\meningioma_419_jpg.rf.395691c15e215eae0002e54d7ba4d90a.jpg: 640x640 1 meningioma, 125.6ms\n",
      "image 50/191 D:\\Labeeq\\MLProjects\\Brain Tumor Detection\\test\\images\\meningioma_451_jpg.rf.cfca08aa09bbb6c1bd7cd2b5bcb912d4.jpg: 640x640 1 meningioma, 132.1ms\n",
      "image 51/191 D:\\Labeeq\\MLProjects\\Brain Tumor Detection\\test\\images\\meningioma_456_jpg.rf.9698d543f4d9f530aa4dc5cdec4eabae.jpg: 640x640 1 meningioma, 134.0ms\n",
      "image 52/191 D:\\Labeeq\\MLProjects\\Brain Tumor Detection\\test\\images\\meningioma_465_jpg.rf.9f59c836d9cb2c93bfb2110ce9547b66.jpg: 640x640 1 meningioma, 123.0ms\n",
      "image 53/191 D:\\Labeeq\\MLProjects\\Brain Tumor Detection\\test\\images\\meningioma_497_jpg.rf.8130e065ef9147951bd35bc3205aec42.jpg: 640x640 1 meningioma, 125.5ms\n",
      "image 54/191 D:\\Labeeq\\MLProjects\\Brain Tumor Detection\\test\\images\\meningioma_506_jpg.rf.5bf59f100f70b99b8b4568547fb1f4ca.jpg: 640x640 1 meningioma, 113.3ms\n",
      "image 55/191 D:\\Labeeq\\MLProjects\\Brain Tumor Detection\\test\\images\\meningioma_510_jpg.rf.999b31c360e035045634272999c756ec.jpg: 640x640 1 meningioma, 117.2ms\n",
      "image 56/191 D:\\Labeeq\\MLProjects\\Brain Tumor Detection\\test\\images\\meningioma_527_jpg.rf.e6e1894c4c938833c4c210580dd04ebc.jpg: 640x640 1 meningioma, 115.7ms\n",
      "image 57/191 D:\\Labeeq\\MLProjects\\Brain Tumor Detection\\test\\images\\meningioma_53_jpg.rf.3cb0497f3cdde5412da9a815e0e3517e.jpg: 640x640 1 meningioma, 122.4ms\n",
      "image 58/191 D:\\Labeeq\\MLProjects\\Brain Tumor Detection\\test\\images\\meningioma_560_jpg.rf.85153e1b2c9c1a5c7deb100dd7f57d90.jpg: 640x640 1 meningioma, 109.8ms\n",
      "image 59/191 D:\\Labeeq\\MLProjects\\Brain Tumor Detection\\test\\images\\meningioma_651_jpg.rf.49cf6799370954aae7af67202d4fa6ac.jpg: 640x640 1 meningioma, 116.0ms\n",
      "image 60/191 D:\\Labeeq\\MLProjects\\Brain Tumor Detection\\test\\images\\meningioma_668_jpg.rf.4f0ec7ad9633f559f01095357d417f35.jpg: 640x640 1 meningioma, 108.0ms\n",
      "image 61/191 D:\\Labeeq\\MLProjects\\Brain Tumor Detection\\test\\images\\meningioma_675_jpg.rf.8c131b8a54a96243ecc02dc94322c67d.jpg: 640x640 1 meningioma, 113.6ms\n",
      "image 62/191 D:\\Labeeq\\MLProjects\\Brain Tumor Detection\\test\\images\\meningioma_701_jpg.rf.9cdf2d43ac181d0388ff8cd566edc52c.jpg: 640x640 1 meningioma, 114.5ms\n",
      "image 63/191 D:\\Labeeq\\MLProjects\\Brain Tumor Detection\\test\\images\\meningioma_70_jpg.rf.74326b746ff7de210fecd85082106353.jpg: 640x640 1 meningioma, 127.1ms\n",
      "image 64/191 D:\\Labeeq\\MLProjects\\Brain Tumor Detection\\test\\images\\meningioma_71_jpg.rf.4d768fe0e92a33f05b52022d71b3c6e2.jpg: 640x640 1 meningioma, 113.7ms\n",
      "image 65/191 D:\\Labeeq\\MLProjects\\Brain Tumor Detection\\test\\images\\meningioma_731_jpg.rf.2bd246db438cf270810595e8d0237423.jpg: 640x640 1 meningioma, 114.8ms\n",
      "image 66/191 D:\\Labeeq\\MLProjects\\Brain Tumor Detection\\test\\images\\meningioma_736_jpg.rf.c9a572f1cf4c209e0753c703738acf07.jpg: 640x640 1 meningioma, 122.1ms\n",
      "image 67/191 D:\\Labeeq\\MLProjects\\Brain Tumor Detection\\test\\images\\meningioma_762_jpg.rf.74a206487cb23c9c5f9ed33f3691feee.jpg: 640x640 2 meningiomas, 112.7ms\n",
      "image 68/191 D:\\Labeeq\\MLProjects\\Brain Tumor Detection\\test\\images\\meningioma_766_jpg.rf.0fe78e60877aa40c1f269270915f0638.jpg: 640x640 1 meningioma, 112.8ms\n",
      "image 69/191 D:\\Labeeq\\MLProjects\\Brain Tumor Detection\\test\\images\\meningioma_806_jpg.rf.ba5f0ea835c335c331216c7f8698c5ec.jpg: 640x640 1 meningioma, 109.8ms\n",
      "image 70/191 D:\\Labeeq\\MLProjects\\Brain Tumor Detection\\test\\images\\meningioma_815_jpg.rf.c387b3b143281c739a128d7c40c6cdfc.jpg: 640x640 1 meningioma, 109.8ms\n",
      "image 71/191 D:\\Labeeq\\MLProjects\\Brain Tumor Detection\\test\\images\\meningioma_830_jpg.rf.6547e68567b8dc50693b8ee36f4c34b6.jpg: 640x640 1 meningioma, 160.0ms\n",
      "image 72/191 D:\\Labeeq\\MLProjects\\Brain Tumor Detection\\test\\images\\meningioma_839_jpg.rf.eb9ffefc56b9890aaac438441bc55437.jpg: 640x640 1 meningioma, 110.6ms\n",
      "image 73/191 D:\\Labeeq\\MLProjects\\Brain Tumor Detection\\test\\images\\meningioma_858_jpg.rf.bc221e36d038380414310c5a62d653b2.jpg: 640x640 1 meningioma, 118.6ms\n",
      "image 74/191 D:\\Labeeq\\MLProjects\\Brain Tumor Detection\\test\\images\\meningioma_870_jpg.rf.0c898c8fc20bf99cd7feadb6ba5aab30.jpg: 640x640 1 meningioma, 117.9ms\n",
      "image 75/191 D:\\Labeeq\\MLProjects\\Brain Tumor Detection\\test\\images\\meningioma_888_jpg.rf.5ce7d193819b5442f63101a8246d5182.jpg: 640x640 1 meningioma, 120.4ms\n",
      "image 76/191 D:\\Labeeq\\MLProjects\\Brain Tumor Detection\\test\\images\\meningioma_891_jpg.rf.1f0962713a0b0efd8cee7e01675d112d.jpg: 640x640 1 meningioma, 128.4ms\n",
      "image 77/191 D:\\Labeeq\\MLProjects\\Brain Tumor Detection\\test\\images\\meningioma_932_jpg.rf.235b4d9c852bf6c7cfe81a360dc79c2a.jpg: 640x640 1 meningioma, 113.8ms\n",
      "image 78/191 D:\\Labeeq\\MLProjects\\Brain Tumor Detection\\test\\images\\meningioma_939_jpg.rf.bafde557daccc5e9a7fb3593f70b4350.jpg: 640x640 2 meningiomas, 158.2ms\n",
      "image 79/191 D:\\Labeeq\\MLProjects\\Brain Tumor Detection\\test\\images\\meningioma_940_jpg.rf.b20d1eee5ed261cce833d9b0721091ff.jpg: 640x640 1 meningioma, 119.6ms\n",
      "image 80/191 D:\\Labeeq\\MLProjects\\Brain Tumor Detection\\test\\images\\meningioma_946_jpg.rf.2d85ff928044cae2d60c3e829eddf858.jpg: 640x640 1 meningioma, 113.1ms\n",
      "image 81/191 D:\\Labeeq\\MLProjects\\Brain Tumor Detection\\test\\images\\meningioma_952_jpg.rf.7d78afab1194f32d60f654dff7b63992.jpg: 640x640 1 meningioma, 116.8ms\n",
      "image 82/191 D:\\Labeeq\\MLProjects\\Brain Tumor Detection\\test\\images\\meningioma_980_jpg.rf.ec3c0151b878d9e3151f45d24a569b10.jpg: 640x640 1 meningioma, 121.7ms\n",
      "image 83/191 D:\\Labeeq\\MLProjects\\Brain Tumor Detection\\test\\images\\meningioma_9_jpg.rf.1ec25ef99acb20c85680f1ee2c645361.jpg: 640x640 1 meningioma, 120.6ms\n",
      "image 84/191 D:\\Labeeq\\MLProjects\\Brain Tumor Detection\\test\\images\\no_tumor_1017_jpg.rf.d093cf99983ea3ab2152c33badf67670.jpg: 640x640 1 NO_tumor, 114.7ms\n",
      "image 85/191 D:\\Labeeq\\MLProjects\\Brain Tumor Detection\\test\\images\\no_tumor_103_jpg.rf.7417b204153b777bad7d4feea556c46c.jpg: 640x640 1 NO_tumor, 112.7ms\n",
      "image 86/191 D:\\Labeeq\\MLProjects\\Brain Tumor Detection\\test\\images\\no_tumor_1057_jpg.rf.bdce430c79cb90a92f9be72ee2e91762.jpg: 640x640 1 NO_tumor, 122.1ms\n",
      "image 87/191 D:\\Labeeq\\MLProjects\\Brain Tumor Detection\\test\\images\\no_tumor_1083_jpg.rf.42860b2bbc5468e8fef4b662f67a8063.jpg: 640x640 1 NO_tumor, 112.7ms\n",
      "image 88/191 D:\\Labeeq\\MLProjects\\Brain Tumor Detection\\test\\images\\no_tumor_1084_jpg.rf.6ab8ffae24bb12415035cb777ec8d766.jpg: 640x640 1 NO_tumor, 111.5ms\n",
      "image 89/191 D:\\Labeeq\\MLProjects\\Brain Tumor Detection\\test\\images\\no_tumor_1087_jpg.rf.0832b41516e3d18f592ca8fd92e85a23.jpg: 640x640 1 NO_tumor, 113.8ms\n",
      "image 90/191 D:\\Labeeq\\MLProjects\\Brain Tumor Detection\\test\\images\\no_tumor_1094_jpg.rf.3f078fe593a959a09aafad50b5f626de.jpg: 640x640 1 NO_tumor, 110.2ms\n",
      "image 91/191 D:\\Labeeq\\MLProjects\\Brain Tumor Detection\\test\\images\\no_tumor_1131_jpg.rf.b015e0510e491ab4c8338f6ed1fa24b7.jpg: 640x640 1 NO_tumor, 120.5ms\n",
      "image 92/191 D:\\Labeeq\\MLProjects\\Brain Tumor Detection\\test\\images\\no_tumor_1135_jpg.rf.aaf9671571fcc78cbdae705ef39c6b54.jpg: 640x640 1 NO_tumor, 119.7ms\n",
      "image 93/191 D:\\Labeeq\\MLProjects\\Brain Tumor Detection\\test\\images\\no_tumor_1222_jpg.rf.9d3fdd5407e7319948c3eebd72afcd9a.jpg: 640x640 1 NO_tumor, 112.7ms\n",
      "image 94/191 D:\\Labeeq\\MLProjects\\Brain Tumor Detection\\test\\images\\no_tumor_1235_jpg.rf.ebc14a134e6240a90507ca5f52bf64f5.jpg: 640x640 1 NO_tumor, 118.3ms\n",
      "image 95/191 D:\\Labeeq\\MLProjects\\Brain Tumor Detection\\test\\images\\no_tumor_1246_jpg.rf.52fc8fad7106d9f16ed7682d20f4304a.jpg: 640x640 1 NO_tumor, 120.9ms\n",
      "image 96/191 D:\\Labeeq\\MLProjects\\Brain Tumor Detection\\test\\images\\no_tumor_1260_jpg.rf.be3a2924581b2a6f9b837ea3f8da6610.jpg: 640x640 1 NO_tumor, 116.1ms\n",
      "image 97/191 D:\\Labeeq\\MLProjects\\Brain Tumor Detection\\test\\images\\no_tumor_1279_jpg.rf.13ab930ae492d754ee46e01261055a08.jpg: 640x640 1 NO_tumor, 112.0ms\n",
      "image 98/191 D:\\Labeeq\\MLProjects\\Brain Tumor Detection\\test\\images\\no_tumor_1280_jpg.rf.ec2e8443605c0f4de091d313c290efe5.jpg: 640x640 1 NO_tumor, 135.5ms\n",
      "image 99/191 D:\\Labeeq\\MLProjects\\Brain Tumor Detection\\test\\images\\no_tumor_1303_jpg.rf.3e7ca7c2c7a0456d80637af2ba561df2.jpg: 640x640 1 NO_tumor, 118.8ms\n",
      "image 100/191 D:\\Labeeq\\MLProjects\\Brain Tumor Detection\\test\\images\\no_tumor_130_jpg.rf.a42ededfa17b8b0abab6ef31f9c3ac33.jpg: 640x640 1 NO_tumor, 116.5ms\n",
      "image 101/191 D:\\Labeeq\\MLProjects\\Brain Tumor Detection\\test\\images\\no_tumor_132_jpg.rf.644d1b0af2ec2af0993dd3a0bca433c7.jpg: 640x640 1 NO_tumor, 116.5ms\n",
      "image 102/191 D:\\Labeeq\\MLProjects\\Brain Tumor Detection\\test\\images\\no_tumor_1366_jpg.rf.05783fac68d14ab06d3760d8d4cb76b4.jpg: 640x640 1 NO_tumor, 122.3ms\n",
      "image 103/191 D:\\Labeeq\\MLProjects\\Brain Tumor Detection\\test\\images\\no_tumor_1395_jpg.rf.03796587477345120e083a257ba461be.jpg: 640x640 1 NO_tumor, 113.5ms\n",
      "image 104/191 D:\\Labeeq\\MLProjects\\Brain Tumor Detection\\test\\images\\no_tumor_1456_jpg.rf.c59e0b6c7c16eac5a5d9ae989e69e564.jpg: 640x640 1 NO_tumor, 119.7ms\n",
      "image 105/191 D:\\Labeeq\\MLProjects\\Brain Tumor Detection\\test\\images\\no_tumor_1486_jpg.rf.6442bceade29ef8bc7265f87b53641e3.jpg: 640x640 1 NO_tumor, 124.9ms\n",
      "image 106/191 D:\\Labeeq\\MLProjects\\Brain Tumor Detection\\test\\images\\no_tumor_1503_jpg.rf.796331e4eaaa75a5c2a049ae0e50c264.jpg: 640x640 1 NO_tumor, 117.0ms\n",
      "image 107/191 D:\\Labeeq\\MLProjects\\Brain Tumor Detection\\test\\images\\no_tumor_1506_jpg.rf.308b9703b668c845418ae3d201c892ec.jpg: 640x640 1 NO_tumor, 115.1ms\n",
      "image 108/191 D:\\Labeeq\\MLProjects\\Brain Tumor Detection\\test\\images\\no_tumor_1514_jpg.rf.5283527681bc5c241a570fcaf45db988.jpg: 640x640 1 NO_tumor, 119.1ms\n",
      "image 109/191 D:\\Labeeq\\MLProjects\\Brain Tumor Detection\\test\\images\\no_tumor_1517_jpg.rf.cd6da20ee5fb42e553d4ee207a463f15.jpg: 640x640 1 NO_tumor, 118.7ms\n",
      "image 110/191 D:\\Labeeq\\MLProjects\\Brain Tumor Detection\\test\\images\\no_tumor_1534_jpg.rf.ae8b76f23d29d444a98617b75485c09d.jpg: 640x640 1 NO_tumor, 117.2ms\n",
      "image 111/191 D:\\Labeeq\\MLProjects\\Brain Tumor Detection\\test\\images\\no_tumor_1563_jpg.rf.5544261b8c8130bd54574f994fcad2d6.jpg: 640x640 1 NO_tumor, 117.4ms\n",
      "image 112/191 D:\\Labeeq\\MLProjects\\Brain Tumor Detection\\test\\images\\no_tumor_157_jpg.rf.71dd2a7bda42370dea43c2b2336f0ea0.jpg: 640x640 1 NO_tumor, 123.0ms\n",
      "image 113/191 D:\\Labeeq\\MLProjects\\Brain Tumor Detection\\test\\images\\no_tumor_165_jpg.rf.e24cd8832f54f68502464b9790f274fd.jpg: 640x640 1 NO_tumor, 121.1ms\n",
      "image 114/191 D:\\Labeeq\\MLProjects\\Brain Tumor Detection\\test\\images\\no_tumor_168_jpg.rf.587bc894e659b547ff6fed7350269023.jpg: 640x640 2 NO_tumors, 120.9ms\n",
      "image 115/191 D:\\Labeeq\\MLProjects\\Brain Tumor Detection\\test\\images\\no_tumor_170_jpg.rf.d686b1e375b6a7a0269653fabf66fc35.jpg: 640x640 1 NO_tumor, 125.3ms\n",
      "image 116/191 D:\\Labeeq\\MLProjects\\Brain Tumor Detection\\test\\images\\no_tumor_192_jpg.rf.0575d84316d72c844abd5a74f161af37.jpg: 640x640 2 NO_tumors, 119.5ms\n",
      "image 117/191 D:\\Labeeq\\MLProjects\\Brain Tumor Detection\\test\\images\\no_tumor_203_jpg.rf.7ce7feed31b98210a3a7d51c93f55953.jpg: 640x640 (no detections), 155.6ms\n",
      "image 118/191 D:\\Labeeq\\MLProjects\\Brain Tumor Detection\\test\\images\\no_tumor_250_jpg.rf.13037545f5983fff91452609f86b89e1.jpg: 640x640 1 NO_tumor, 133.7ms\n",
      "image 119/191 D:\\Labeeq\\MLProjects\\Brain Tumor Detection\\test\\images\\no_tumor_252_jpg.rf.fd46289d06cd1fefdb478d81c7f39092.jpg: 640x640 1 NO_tumor, 1 meningioma, 116.7ms\n",
      "image 120/191 D:\\Labeeq\\MLProjects\\Brain Tumor Detection\\test\\images\\no_tumor_300_jpg.rf.276851e5fcf5401c7b2acbe29725c9d9.jpg: 640x640 1 NO_tumor, 119.9ms\n",
      "image 121/191 D:\\Labeeq\\MLProjects\\Brain Tumor Detection\\test\\images\\no_tumor_321_jpg.rf.dc0209e3c99527451fc3bc4ce18d40aa.jpg: 640x640 1 NO_tumor, 124.0ms\n",
      "image 122/191 D:\\Labeeq\\MLProjects\\Brain Tumor Detection\\test\\images\\no_tumor_331_jpg.rf.5917a7f2ea0581f6e2aef7cec1299ec9.jpg: 640x640 1 NO_tumor, 121.2ms\n",
      "image 123/191 D:\\Labeeq\\MLProjects\\Brain Tumor Detection\\test\\images\\no_tumor_342_jpg.rf.b236d0e435bb0636e2c03c9ffb149748.jpg: 640x640 2 meningiomas, 157.9ms\n",
      "image 124/191 D:\\Labeeq\\MLProjects\\Brain Tumor Detection\\test\\images\\no_tumor_402_jpg.rf.abf3c53989455ff55ba4caf865098116.jpg: 640x640 1 NO_tumor, 123.8ms\n",
      "image 125/191 D:\\Labeeq\\MLProjects\\Brain Tumor Detection\\test\\images\\no_tumor_447_jpg.rf.c9e4d16f37b596d376f3d34d32df3a00.jpg: 640x640 1 NO_tumor, 143.7ms\n",
      "image 126/191 D:\\Labeeq\\MLProjects\\Brain Tumor Detection\\test\\images\\no_tumor_559_jpg.rf.e3fcb0deee33451b820a6763db474738.jpg: 640x640 1 NO_tumor, 123.6ms\n",
      "image 127/191 D:\\Labeeq\\MLProjects\\Brain Tumor Detection\\test\\images\\no_tumor_608_jpg.rf.8609c33a14a4501aeba29a0d1819c03e.jpg: 640x640 1 NO_tumor, 122.0ms\n",
      "image 128/191 D:\\Labeeq\\MLProjects\\Brain Tumor Detection\\test\\images\\no_tumor_614_jpg.rf.7a3b1440598797e5f0feb7c53b470453.jpg: 640x640 1 NO_tumor, 131.5ms\n",
      "image 129/191 D:\\Labeeq\\MLProjects\\Brain Tumor Detection\\test\\images\\no_tumor_636_jpg.rf.74273782adf22b1420e0cf2da9c2ca2a.jpg: 640x640 1 NO_tumor, 108.7ms\n",
      "image 130/191 D:\\Labeeq\\MLProjects\\Brain Tumor Detection\\test\\images\\no_tumor_657_jpg.rf.fa6a4edcdfeb229c60ec07fbbb231e4a.jpg: 640x640 1 NO_tumor, 118.9ms\n",
      "image 131/191 D:\\Labeeq\\MLProjects\\Brain Tumor Detection\\test\\images\\no_tumor_684_jpg.rf.50fd242be19ffdd7c712c33754b2c874.jpg: 640x640 1 NO_tumor, 120.8ms\n",
      "image 132/191 D:\\Labeeq\\MLProjects\\Brain Tumor Detection\\test\\images\\no_tumor_686_jpg.rf.fd5423484168879f64c46c5be72728ae.jpg: 640x640 1 NO_tumor, 120.0ms\n",
      "image 133/191 D:\\Labeeq\\MLProjects\\Brain Tumor Detection\\test\\images\\no_tumor_711_jpg.rf.01d1a24127679c8360494fed3d2ba05d.jpg: 640x640 1 NO_tumor, 119.8ms\n",
      "image 134/191 D:\\Labeeq\\MLProjects\\Brain Tumor Detection\\test\\images\\no_tumor_714_jpg.rf.4c3533044bb60daeda9e6c1c8ad8d7de.jpg: 640x640 1 NO_tumor, 120.2ms\n",
      "image 135/191 D:\\Labeeq\\MLProjects\\Brain Tumor Detection\\test\\images\\no_tumor_725_jpg.rf.ed8d3a631c3ec106c95ea4b6dbeee0a5.jpg: 640x640 1 NO_tumor, 114.3ms\n",
      "image 136/191 D:\\Labeeq\\MLProjects\\Brain Tumor Detection\\test\\images\\no_tumor_728_jpg.rf.51d9e2d01ffb272fa89e86a80755a88f.jpg: 640x640 1 NO_tumor, 116.4ms\n",
      "image 137/191 D:\\Labeeq\\MLProjects\\Brain Tumor Detection\\test\\images\\no_tumor_730_jpg.rf.eb311fc7af73779cb4fbbdcce760e449.jpg: 640x640 1 NO_tumor, 106.6ms\n",
      "image 138/191 D:\\Labeeq\\MLProjects\\Brain Tumor Detection\\test\\images\\no_tumor_755_jpg.rf.0c0fe0d5fe641af6f45465584a291409.jpg: 640x640 1 NO_tumor, 110.0ms\n",
      "image 139/191 D:\\Labeeq\\MLProjects\\Brain Tumor Detection\\test\\images\\no_tumor_795_jpg.rf.2d8c2c4be202abc3264f0139cdcae3b6.jpg: 640x640 1 NO_tumor, 108.9ms\n",
      "image 140/191 D:\\Labeeq\\MLProjects\\Brain Tumor Detection\\test\\images\\no_tumor_80_jpg.rf.98e07d6b05f91f828f12e33238c2cfc0.jpg: 640x640 1 NO_tumor, 133.5ms\n",
      "image 141/191 D:\\Labeeq\\MLProjects\\Brain Tumor Detection\\test\\images\\no_tumor_817_jpg.rf.0e98079076d5487362d66caa0555d27a.jpg: 640x640 1 NO_tumor, 127.4ms\n",
      "image 142/191 D:\\Labeeq\\MLProjects\\Brain Tumor Detection\\test\\images\\no_tumor_831_jpg.rf.0ee00f5ebdc1cfb934dc59ea63830689.jpg: 640x640 1 NO_tumor, 128.5ms\n",
      "image 143/191 D:\\Labeeq\\MLProjects\\Brain Tumor Detection\\test\\images\\no_tumor_835_jpg.rf.e4221530df42441c0a800d47b4810510.jpg: 640x640 1 NO_tumor, 124.6ms\n",
      "image 144/191 D:\\Labeeq\\MLProjects\\Brain Tumor Detection\\test\\images\\no_tumor_845_jpg.rf.b49a4061efc2333a98ac0cee53cb0fee.jpg: 640x640 1 NO_tumor, 129.8ms\n",
      "image 145/191 D:\\Labeeq\\MLProjects\\Brain Tumor Detection\\test\\images\\no_tumor_882_jpg.rf.3fee1f4347079e9aea3d067d9e5f0878.jpg: 640x640 1 NO_tumor, 124.7ms\n",
      "image 146/191 D:\\Labeeq\\MLProjects\\Brain Tumor Detection\\test\\images\\no_tumor_935_jpg.rf.e0b7c8e5d5cf1cfcabfa469e29f76df5.jpg: 640x640 1 NO_tumor, 122.8ms\n",
      "image 147/191 D:\\Labeeq\\MLProjects\\Brain Tumor Detection\\test\\images\\no_tumor_95_jpg.rf.9a9ca1c789135389307197d34bcbdaf9.jpg: 640x640 1 NO_tumor, 135.0ms\n",
      "image 148/191 D:\\Labeeq\\MLProjects\\Brain Tumor Detection\\test\\images\\no_tumor_961_jpg.rf.ed570861ac63c10225fcd2d3f7eb5516.jpg: 640x640 1 NO_tumor, 125.7ms\n",
      "image 149/191 D:\\Labeeq\\MLProjects\\Brain Tumor Detection\\test\\images\\no_tumor_971_jpg.rf.4daf360da23ae74a29f56d0bf45525fe.jpg: 640x640 1 NO_tumor, 130.3ms\n",
      "image 150/191 D:\\Labeeq\\MLProjects\\Brain Tumor Detection\\test\\images\\no_tumor_979_jpg.rf.c1b559560c799b78a6c6cf02fdcf8e0a.jpg: 640x640 1 NO_tumor, 137.8ms\n",
      "image 151/191 D:\\Labeeq\\MLProjects\\Brain Tumor Detection\\test\\images\\no_tumor_98_jpg.rf.5c4571b394f09956f287681f671fcd9f.jpg: 640x640 1 NO_tumor, 132.2ms\n",
      "image 152/191 D:\\Labeeq\\MLProjects\\Brain Tumor Detection\\test\\images\\pituitary_1006_jpg.rf.ea728f46f66b6ef65c3e4f11028bd72b.jpg: 640x640 1 pituitary, 131.7ms\n",
      "image 153/191 D:\\Labeeq\\MLProjects\\Brain Tumor Detection\\test\\images\\pituitary_1021_jpg.rf.1d5bb8f146294ff9b717171b79c58c40.jpg: 640x640 1 pituitary, 121.1ms\n",
      "image 154/191 D:\\Labeeq\\MLProjects\\Brain Tumor Detection\\test\\images\\pituitary_1052_jpg.rf.9b658058ddc5049d6363cb79a6860201.jpg: 640x640 2 pituitarys, 114.9ms\n",
      "image 155/191 D:\\Labeeq\\MLProjects\\Brain Tumor Detection\\test\\images\\pituitary_1059_jpg.rf.d49c0fe0491f79ac1f5044366afa4434.jpg: 640x640 1 meningioma, 113.1ms\n",
      "image 156/191 D:\\Labeeq\\MLProjects\\Brain Tumor Detection\\test\\images\\pituitary_1065_jpg.rf.e0a3a71bbfb1f577393cd74507634bff.jpg: 640x640 2 pituitarys, 130.1ms\n",
      "image 157/191 D:\\Labeeq\\MLProjects\\Brain Tumor Detection\\test\\images\\pituitary_1105_jpg.rf.d6974206cb3f7a490e199d230057060b.jpg: 640x640 1 pituitary, 130.5ms\n",
      "image 158/191 D:\\Labeeq\\MLProjects\\Brain Tumor Detection\\test\\images\\pituitary_1187_jpg.rf.7a2a3b7c5b2945a04a5758baf1eb2053.jpg: 640x640 2 pituitarys, 128.3ms\n",
      "image 159/191 D:\\Labeeq\\MLProjects\\Brain Tumor Detection\\test\\images\\pituitary_1204_jpg.rf.c5472c4f754076057a42aaf3b32039eb.jpg: 640x640 1 pituitary, 126.6ms\n",
      "image 160/191 D:\\Labeeq\\MLProjects\\Brain Tumor Detection\\test\\images\\pituitary_1251_jpg.rf.cd511f5adc61d2902250580768eec456.jpg: 640x640 1 pituitary, 171.2ms\n",
      "image 161/191 D:\\Labeeq\\MLProjects\\Brain Tumor Detection\\test\\images\\pituitary_1272_jpg.rf.594703e08212f85686f7158102db9177.jpg: 640x640 1 pituitary, 164.5ms\n",
      "image 162/191 D:\\Labeeq\\MLProjects\\Brain Tumor Detection\\test\\images\\pituitary_1307_jpg.rf.71c6f12597dff5e33452666c82b9f7a5.jpg: 640x640 1 pituitary, 145.6ms\n",
      "image 163/191 D:\\Labeeq\\MLProjects\\Brain Tumor Detection\\test\\images\\pituitary_1326_jpg.rf.7c1b3104a0cd6cd6893cd6888c37bbb1.jpg: 640x640 1 pituitary, 120.5ms\n",
      "image 164/191 D:\\Labeeq\\MLProjects\\Brain Tumor Detection\\test\\images\\pituitary_1338_jpg.rf.82b8ed392a5945d4d2d9d4af60479f84.jpg: 640x640 1 pituitary, 114.7ms\n",
      "image 165/191 D:\\Labeeq\\MLProjects\\Brain Tumor Detection\\test\\images\\pituitary_1360_jpg.rf.6926d25d69846f184ef41cfe8717a05f.jpg: 640x640 1 pituitary, 105.3ms\n",
      "image 166/191 D:\\Labeeq\\MLProjects\\Brain Tumor Detection\\test\\images\\pituitary_1378_jpg.rf.22ecd431ad0f1cb8d0df887540a6ecb8.jpg: 640x640 1 pituitary, 107.7ms\n",
      "image 167/191 D:\\Labeeq\\MLProjects\\Brain Tumor Detection\\test\\images\\pituitary_321_jpg.rf.d4576351b602a4af3a3d9ddea7d1ef32.jpg: 640x640 2 pituitarys, 103.1ms\n",
      "image 168/191 D:\\Labeeq\\MLProjects\\Brain Tumor Detection\\test\\images\\pituitary_341_jpg.rf.2f9b62cb2495a2ede6ffc46ad76165eb.jpg: 640x640 (no detections), 109.9ms\n",
      "image 169/191 D:\\Labeeq\\MLProjects\\Brain Tumor Detection\\test\\images\\pituitary_391_jpg.rf.4ba70c13d5396d34a79229c732bfb20a.jpg: 640x640 1 pituitary, 105.4ms\n",
      "image 170/191 D:\\Labeeq\\MLProjects\\Brain Tumor Detection\\test\\images\\pituitary_3_jpg.rf.8e11773d7df074a0925d9719000abbeb.jpg: 640x640 1 pituitary, 114.9ms\n",
      "image 171/191 D:\\Labeeq\\MLProjects\\Brain Tumor Detection\\test\\images\\pituitary_407_jpg.rf.52373232b5b4c4b4c202b2c0c67a7fcd.jpg: 640x640 1 pituitary, 114.5ms\n",
      "image 172/191 D:\\Labeeq\\MLProjects\\Brain Tumor Detection\\test\\images\\pituitary_417_jpg.rf.138e977276381b0359656f43448e6220.jpg: 640x640 1 pituitary, 115.0ms\n",
      "image 173/191 D:\\Labeeq\\MLProjects\\Brain Tumor Detection\\test\\images\\pituitary_438_jpg.rf.b9609faec37851a1b969368e51157651.jpg: 640x640 1 pituitary, 107.7ms\n",
      "image 174/191 D:\\Labeeq\\MLProjects\\Brain Tumor Detection\\test\\images\\pituitary_440_jpg.rf.a9395382d525f40e0b361401537ed4b0.jpg: 640x640 1 pituitary, 112.0ms\n",
      "image 175/191 D:\\Labeeq\\MLProjects\\Brain Tumor Detection\\test\\images\\pituitary_509_jpg.rf.6736facf090a01241fc32a3b3b1fba64.jpg: 640x640 1 pituitary, 105.3ms\n",
      "image 176/191 D:\\Labeeq\\MLProjects\\Brain Tumor Detection\\test\\images\\pituitary_52_jpg.rf.fdcfa5d9e26de3ff6e7ee36d90012e16.jpg: 640x640 1 pituitary, 132.6ms\n",
      "image 177/191 D:\\Labeeq\\MLProjects\\Brain Tumor Detection\\test\\images\\pituitary_561_jpg.rf.b00fb38cd3dbec9b1ed501d173f7d70d.jpg: 640x640 1 pituitary, 119.5ms\n",
      "image 178/191 D:\\Labeeq\\MLProjects\\Brain Tumor Detection\\test\\images\\pituitary_599_jpg.rf.4a0692c8c7a490514edbc048a6edca07.jpg: 640x640 1 pituitary, 121.7ms\n",
      "image 179/191 D:\\Labeeq\\MLProjects\\Brain Tumor Detection\\test\\images\\pituitary_625_jpg.rf.ca8f7a18c06803c390230d402a65b912.jpg: 640x640 2 pituitarys, 123.6ms\n",
      "image 180/191 D:\\Labeeq\\MLProjects\\Brain Tumor Detection\\test\\images\\pituitary_627_jpg.rf.403fab631a23c9350fb11f3a6268a30e.jpg: 640x640 2 pituitarys, 124.4ms\n",
      "image 181/191 D:\\Labeeq\\MLProjects\\Brain Tumor Detection\\test\\images\\pituitary_644_jpg.rf.4601df0379d94a3ba352f78c975582d6.jpg: 640x640 1 pituitary, 119.4ms\n",
      "image 182/191 D:\\Labeeq\\MLProjects\\Brain Tumor Detection\\test\\images\\pituitary_646_jpg.rf.5408226f1b8703afcae0a97600f9e1cb.jpg: 640x640 2 pituitarys, 116.9ms\n",
      "image 183/191 D:\\Labeeq\\MLProjects\\Brain Tumor Detection\\test\\images\\pituitary_658_jpg.rf.9c7c0b2a6e6290e814544b2a1aac8c24.jpg: 640x640 1 meningioma, 1 pituitary, 108.7ms\n",
      "image 184/191 D:\\Labeeq\\MLProjects\\Brain Tumor Detection\\test\\images\\pituitary_684_jpg.rf.f1133419ed0cc3972a0ceb003c7e7583.jpg: 640x640 1 pituitary, 119.3ms\n",
      "image 185/191 D:\\Labeeq\\MLProjects\\Brain Tumor Detection\\test\\images\\pituitary_740_jpg.rf.a39ec3b80c5146df13a965fa502996e1.jpg: 640x640 2 pituitarys, 117.0ms\n",
      "image 186/191 D:\\Labeeq\\MLProjects\\Brain Tumor Detection\\test\\images\\pituitary_773_jpg.rf.c0b6be2cc258ec4f46c19216462aa17b.jpg: 640x640 1 pituitary, 122.4ms\n",
      "image 187/191 D:\\Labeeq\\MLProjects\\Brain Tumor Detection\\test\\images\\pituitary_82_jpg.rf.266f74c402ba07b9828375bea79250f4.jpg: 640x640 1 pituitary, 123.0ms\n",
      "image 188/191 D:\\Labeeq\\MLProjects\\Brain Tumor Detection\\test\\images\\pituitary_914_jpg.rf.3a3f86484fca47f2d1495ef13700d694.jpg: 640x640 1 pituitary, 131.1ms\n",
      "image 189/191 D:\\Labeeq\\MLProjects\\Brain Tumor Detection\\test\\images\\pituitary_916_jpg.rf.2e7aff9c3a4e9394f05ddb39486732fd.jpg: 640x640 1 pituitary, 111.3ms\n",
      "image 190/191 D:\\Labeeq\\MLProjects\\Brain Tumor Detection\\test\\images\\pituitary_960_jpg.rf.b21c9456dc94792be07f04c9f6cd8079.jpg: 640x640 1 pituitary, 111.1ms\n",
      "image 191/191 D:\\Labeeq\\MLProjects\\Brain Tumor Detection\\test\\images\\pituitary_981_jpg.rf.73945e61a724376de07a7aad24868456.jpg: 640x640 2 pituitarys, 114.6ms\n",
      "Speed: 2.8ms preprocess, 120.6ms inference, 1.6ms postprocess per image at shape (1, 3, 640, 640)\n",
      "Results saved to \u001b[1mruns\\segment\\predict2\u001b[0m\n",
      "Results saved to \u001b[1mruns\\segment\\predict2\u001b[0m\n",
      "Results saved to \u001b[1mruns\\segment\\predict2\u001b[0m\n",
      "Results saved to \u001b[1mruns\\segment\\predict2\u001b[0m\n",
      "Results saved to \u001b[1mruns\\segment\\predict2\u001b[0m\n",
      "Results saved to \u001b[1mruns\\segment\\predict2\u001b[0m\n",
      "Results saved to \u001b[1mruns\\segment\\predict2\u001b[0m\n",
      "Results saved to \u001b[1mruns\\segment\\predict2\u001b[0m\n",
      "Results saved to \u001b[1mruns\\segment\\predict2\u001b[0m\n",
      "Results saved to \u001b[1mruns\\segment\\predict2\u001b[0m\n",
      "Results saved to \u001b[1mruns\\segment\\predict2\u001b[0m\n",
      "Results saved to \u001b[1mruns\\segment\\predict2\u001b[0m\n",
      "Results saved to \u001b[1mruns\\segment\\predict2\u001b[0m\n",
      "Results saved to \u001b[1mruns\\segment\\predict2\u001b[0m\n",
      "Results saved to \u001b[1mruns\\segment\\predict2\u001b[0m\n",
      "Results saved to \u001b[1mruns\\segment\\predict2\u001b[0m\n",
      "Results saved to \u001b[1mruns\\segment\\predict2\u001b[0m\n",
      "Results saved to \u001b[1mruns\\segment\\predict2\u001b[0m\n",
      "Results saved to \u001b[1mruns\\segment\\predict2\u001b[0m\n",
      "Results saved to \u001b[1mruns\\segment\\predict2\u001b[0m\n",
      "Results saved to \u001b[1mruns\\segment\\predict2\u001b[0m\n",
      "Results saved to \u001b[1mruns\\segment\\predict2\u001b[0m\n",
      "Results saved to \u001b[1mruns\\segment\\predict2\u001b[0m\n",
      "Results saved to \u001b[1mruns\\segment\\predict2\u001b[0m\n",
      "Results saved to \u001b[1mruns\\segment\\predict2\u001b[0m\n",
      "Results saved to \u001b[1mruns\\segment\\predict2\u001b[0m\n",
      "Results saved to \u001b[1mruns\\segment\\predict2\u001b[0m\n",
      "Results saved to \u001b[1mruns\\segment\\predict2\u001b[0m\n",
      "Results saved to \u001b[1mruns\\segment\\predict2\u001b[0m\n",
      "Results saved to \u001b[1mruns\\segment\\predict2\u001b[0m\n",
      "Results saved to \u001b[1mruns\\segment\\predict2\u001b[0m\n",
      "Results saved to \u001b[1mruns\\segment\\predict2\u001b[0m\n",
      "Results saved to \u001b[1mruns\\segment\\predict2\u001b[0m\n",
      "Results saved to \u001b[1mruns\\segment\\predict2\u001b[0m\n",
      "Results saved to \u001b[1mruns\\segment\\predict2\u001b[0m\n",
      "Results saved to \u001b[1mruns\\segment\\predict2\u001b[0m\n",
      "Results saved to \u001b[1mruns\\segment\\predict2\u001b[0m\n",
      "Results saved to \u001b[1mruns\\segment\\predict2\u001b[0m\n",
      "Results saved to \u001b[1mruns\\segment\\predict2\u001b[0m\n",
      "Results saved to \u001b[1mruns\\segment\\predict2\u001b[0m\n",
      "Results saved to \u001b[1mruns\\segment\\predict2\u001b[0m\n",
      "Results saved to \u001b[1mruns\\segment\\predict2\u001b[0m\n",
      "Results saved to \u001b[1mruns\\segment\\predict2\u001b[0m\n",
      "Results saved to \u001b[1mruns\\segment\\predict2\u001b[0m\n",
      "Results saved to \u001b[1mruns\\segment\\predict2\u001b[0m\n",
      "Results saved to \u001b[1mruns\\segment\\predict2\u001b[0m\n",
      "Results saved to \u001b[1mruns\\segment\\predict2\u001b[0m\n",
      "Results saved to \u001b[1mruns\\segment\\predict2\u001b[0m\n",
      "Results saved to \u001b[1mruns\\segment\\predict2\u001b[0m\n",
      "Results saved to \u001b[1mruns\\segment\\predict2\u001b[0m\n",
      "Results saved to \u001b[1mruns\\segment\\predict2\u001b[0m\n",
      "Results saved to \u001b[1mruns\\segment\\predict2\u001b[0m\n",
      "Results saved to \u001b[1mruns\\segment\\predict2\u001b[0m\n",
      "Results saved to \u001b[1mruns\\segment\\predict2\u001b[0m\n",
      "Results saved to \u001b[1mruns\\segment\\predict2\u001b[0m\n",
      "Results saved to \u001b[1mruns\\segment\\predict2\u001b[0m\n",
      "Results saved to \u001b[1mruns\\segment\\predict2\u001b[0m\n",
      "Results saved to \u001b[1mruns\\segment\\predict2\u001b[0m\n",
      "Results saved to \u001b[1mruns\\segment\\predict2\u001b[0m\n",
      "Results saved to \u001b[1mruns\\segment\\predict2\u001b[0m\n",
      "Results saved to \u001b[1mruns\\segment\\predict2\u001b[0m\n",
      "Results saved to \u001b[1mruns\\segment\\predict2\u001b[0m\n",
      "Results saved to \u001b[1mruns\\segment\\predict2\u001b[0m\n",
      "Results saved to \u001b[1mruns\\segment\\predict2\u001b[0m\n",
      "Results saved to \u001b[1mruns\\segment\\predict2\u001b[0m\n",
      "Results saved to \u001b[1mruns\\segment\\predict2\u001b[0m\n",
      "Results saved to \u001b[1mruns\\segment\\predict2\u001b[0m\n",
      "Results saved to \u001b[1mruns\\segment\\predict2\u001b[0m\n",
      "Results saved to \u001b[1mruns\\segment\\predict2\u001b[0m\n",
      "Results saved to \u001b[1mruns\\segment\\predict2\u001b[0m\n",
      "Results saved to \u001b[1mruns\\segment\\predict2\u001b[0m\n",
      "Results saved to \u001b[1mruns\\segment\\predict2\u001b[0m\n",
      "Results saved to \u001b[1mruns\\segment\\predict2\u001b[0m\n",
      "Results saved to \u001b[1mruns\\segment\\predict2\u001b[0m\n",
      "Results saved to \u001b[1mruns\\segment\\predict2\u001b[0m\n",
      "Results saved to \u001b[1mruns\\segment\\predict2\u001b[0m\n",
      "Results saved to \u001b[1mruns\\segment\\predict2\u001b[0m\n",
      "Results saved to \u001b[1mruns\\segment\\predict2\u001b[0m\n",
      "Results saved to \u001b[1mruns\\segment\\predict2\u001b[0m\n",
      "Results saved to \u001b[1mruns\\segment\\predict2\u001b[0m\n",
      "Results saved to \u001b[1mruns\\segment\\predict2\u001b[0m\n",
      "Results saved to \u001b[1mruns\\segment\\predict2\u001b[0m\n",
      "Results saved to \u001b[1mruns\\segment\\predict2\u001b[0m\n",
      "Results saved to \u001b[1mruns\\segment\\predict2\u001b[0m\n",
      "Results saved to \u001b[1mruns\\segment\\predict2\u001b[0m\n",
      "Results saved to \u001b[1mruns\\segment\\predict2\u001b[0m\n",
      "Results saved to \u001b[1mruns\\segment\\predict2\u001b[0m\n",
      "Results saved to \u001b[1mruns\\segment\\predict2\u001b[0m\n",
      "Results saved to \u001b[1mruns\\segment\\predict2\u001b[0m\n",
      "Results saved to \u001b[1mruns\\segment\\predict2\u001b[0m\n",
      "Results saved to \u001b[1mruns\\segment\\predict2\u001b[0m\n",
      "Results saved to \u001b[1mruns\\segment\\predict2\u001b[0m\n",
      "Results saved to \u001b[1mruns\\segment\\predict2\u001b[0m\n",
      "Results saved to \u001b[1mruns\\segment\\predict2\u001b[0m\n",
      "Results saved to \u001b[1mruns\\segment\\predict2\u001b[0m\n",
      "Results saved to \u001b[1mruns\\segment\\predict2\u001b[0m\n",
      "Results saved to \u001b[1mruns\\segment\\predict2\u001b[0m\n",
      "Results saved to \u001b[1mruns\\segment\\predict2\u001b[0m\n",
      "Results saved to \u001b[1mruns\\segment\\predict2\u001b[0m\n",
      "Results saved to \u001b[1mruns\\segment\\predict2\u001b[0m\n",
      "Results saved to \u001b[1mruns\\segment\\predict2\u001b[0m\n",
      "Results saved to \u001b[1mruns\\segment\\predict2\u001b[0m\n",
      "Results saved to \u001b[1mruns\\segment\\predict2\u001b[0m\n",
      "Results saved to \u001b[1mruns\\segment\\predict2\u001b[0m\n",
      "Results saved to \u001b[1mruns\\segment\\predict2\u001b[0m\n",
      "Results saved to \u001b[1mruns\\segment\\predict2\u001b[0m\n",
      "Results saved to \u001b[1mruns\\segment\\predict2\u001b[0m\n",
      "Results saved to \u001b[1mruns\\segment\\predict2\u001b[0m\n",
      "Results saved to \u001b[1mruns\\segment\\predict2\u001b[0m\n",
      "Results saved to \u001b[1mruns\\segment\\predict2\u001b[0m\n",
      "Results saved to \u001b[1mruns\\segment\\predict2\u001b[0m\n",
      "Results saved to \u001b[1mruns\\segment\\predict2\u001b[0m\n",
      "Results saved to \u001b[1mruns\\segment\\predict2\u001b[0m\n",
      "Results saved to \u001b[1mruns\\segment\\predict2\u001b[0m\n",
      "Results saved to \u001b[1mruns\\segment\\predict2\u001b[0m\n",
      "Results saved to \u001b[1mruns\\segment\\predict2\u001b[0m\n",
      "Results saved to \u001b[1mruns\\segment\\predict2\u001b[0m\n",
      "Results saved to \u001b[1mruns\\segment\\predict2\u001b[0m\n",
      "Results saved to \u001b[1mruns\\segment\\predict2\u001b[0m\n",
      "Results saved to \u001b[1mruns\\segment\\predict2\u001b[0m\n",
      "Results saved to \u001b[1mruns\\segment\\predict2\u001b[0m\n",
      "Results saved to \u001b[1mruns\\segment\\predict2\u001b[0m\n",
      "Results saved to \u001b[1mruns\\segment\\predict2\u001b[0m\n",
      "Results saved to \u001b[1mruns\\segment\\predict2\u001b[0m\n",
      "Results saved to \u001b[1mruns\\segment\\predict2\u001b[0m\n",
      "Results saved to \u001b[1mruns\\segment\\predict2\u001b[0m\n",
      "Results saved to \u001b[1mruns\\segment\\predict2\u001b[0m\n",
      "Results saved to \u001b[1mruns\\segment\\predict2\u001b[0m\n",
      "Results saved to \u001b[1mruns\\segment\\predict2\u001b[0m\n",
      "Results saved to \u001b[1mruns\\segment\\predict2\u001b[0m\n",
      "Results saved to \u001b[1mruns\\segment\\predict2\u001b[0m\n",
      "Results saved to \u001b[1mruns\\segment\\predict2\u001b[0m\n",
      "Results saved to \u001b[1mruns\\segment\\predict2\u001b[0m\n",
      "Results saved to \u001b[1mruns\\segment\\predict2\u001b[0m\n",
      "Results saved to \u001b[1mruns\\segment\\predict2\u001b[0m\n",
      "Results saved to \u001b[1mruns\\segment\\predict2\u001b[0m\n",
      "Results saved to \u001b[1mruns\\segment\\predict2\u001b[0m\n",
      "Results saved to \u001b[1mruns\\segment\\predict2\u001b[0m\n",
      "Results saved to \u001b[1mruns\\segment\\predict2\u001b[0m\n",
      "Results saved to \u001b[1mruns\\segment\\predict2\u001b[0m\n",
      "Results saved to \u001b[1mruns\\segment\\predict2\u001b[0m\n",
      "Results saved to \u001b[1mruns\\segment\\predict2\u001b[0m\n",
      "Results saved to \u001b[1mruns\\segment\\predict2\u001b[0m\n",
      "Results saved to \u001b[1mruns\\segment\\predict2\u001b[0m\n",
      "Results saved to \u001b[1mruns\\segment\\predict2\u001b[0m\n",
      "Results saved to \u001b[1mruns\\segment\\predict2\u001b[0m\n",
      "Results saved to \u001b[1mruns\\segment\\predict2\u001b[0m\n",
      "Results saved to \u001b[1mruns\\segment\\predict2\u001b[0m\n",
      "Results saved to \u001b[1mruns\\segment\\predict2\u001b[0m\n",
      "Results saved to \u001b[1mruns\\segment\\predict2\u001b[0m\n",
      "Results saved to \u001b[1mruns\\segment\\predict2\u001b[0m\n",
      "Results saved to \u001b[1mruns\\segment\\predict2\u001b[0m\n",
      "Results saved to \u001b[1mruns\\segment\\predict2\u001b[0m\n",
      "Results saved to \u001b[1mruns\\segment\\predict2\u001b[0m\n",
      "Results saved to \u001b[1mruns\\segment\\predict2\u001b[0m\n",
      "Results saved to \u001b[1mruns\\segment\\predict2\u001b[0m\n",
      "Results saved to \u001b[1mruns\\segment\\predict2\u001b[0m\n",
      "Results saved to \u001b[1mruns\\segment\\predict2\u001b[0m\n",
      "Results saved to \u001b[1mruns\\segment\\predict2\u001b[0m\n",
      "Results saved to \u001b[1mruns\\segment\\predict2\u001b[0m\n",
      "Results saved to \u001b[1mruns\\segment\\predict2\u001b[0m\n",
      "Results saved to \u001b[1mruns\\segment\\predict2\u001b[0m\n",
      "Results saved to \u001b[1mruns\\segment\\predict2\u001b[0m\n",
      "Results saved to \u001b[1mruns\\segment\\predict2\u001b[0m\n",
      "Results saved to \u001b[1mruns\\segment\\predict2\u001b[0m\n",
      "Results saved to \u001b[1mruns\\segment\\predict2\u001b[0m\n",
      "Results saved to \u001b[1mruns\\segment\\predict2\u001b[0m\n",
      "Results saved to \u001b[1mruns\\segment\\predict2\u001b[0m\n",
      "Results saved to \u001b[1mruns\\segment\\predict2\u001b[0m\n",
      "Results saved to \u001b[1mruns\\segment\\predict2\u001b[0m\n",
      "Results saved to \u001b[1mruns\\segment\\predict2\u001b[0m\n",
      "Results saved to \u001b[1mruns\\segment\\predict2\u001b[0m\n",
      "Results saved to \u001b[1mruns\\segment\\predict2\u001b[0m\n",
      "Results saved to \u001b[1mruns\\segment\\predict2\u001b[0m\n",
      "Results saved to \u001b[1mruns\\segment\\predict2\u001b[0m\n",
      "Results saved to \u001b[1mruns\\segment\\predict2\u001b[0m\n",
      "Results saved to \u001b[1mruns\\segment\\predict2\u001b[0m\n",
      "Results saved to \u001b[1mruns\\segment\\predict2\u001b[0m\n",
      "Results saved to \u001b[1mruns\\segment\\predict2\u001b[0m\n",
      "Results saved to \u001b[1mruns\\segment\\predict2\u001b[0m\n",
      "Results saved to \u001b[1mruns\\segment\\predict2\u001b[0m\n",
      "Results saved to \u001b[1mruns\\segment\\predict2\u001b[0m\n",
      "Results saved to \u001b[1mruns\\segment\\predict2\u001b[0m\n",
      "Results saved to \u001b[1mruns\\segment\\predict2\u001b[0m\n",
      "Results saved to \u001b[1mruns\\segment\\predict2\u001b[0m\n",
      "Results saved to \u001b[1mruns\\segment\\predict2\u001b[0m\n",
      "Results saved to \u001b[1mruns\\segment\\predict2\u001b[0m\n",
      "Results saved to \u001b[1mruns\\segment\\predict2\u001b[0m\n",
      "Results saved to \u001b[1mruns\\segment\\predict2\u001b[0m\n"
     ]
    }
   ],
   "source": [
    "from ultralytics import YOLO\n",
    "from ultralytics import SAM\n",
    "\n",
    "yolo_model = YOLO(\"runs/detect/train/weights/best.pt\")\n",
    "\n",
    "results = yolo_model(\"test/images\")\n",
    "\n",
    "sam_model = SAM(\"sam2_b.pt\")\n",
    "\n",
    "for result in results:\n",
    "    class_ids = result.boxes.cls.int().tolist()\n",
    "    if len(class_ids):\n",
    "        boxes = result.boxes.xyxy\n",
    "        sam_results = sam_model(result.orig_img, bboxes = boxes, verbose = False, save = True, device = 'cpu')"
   ]
  },
  {
   "cell_type": "code",
   "execution_count": 22,
   "id": "12432d38-5d7e-4646-87dd-bf31f861461e",
   "metadata": {},
   "outputs": [
    {
     "name": "stdout",
     "output_type": "stream",
     "text": [
      "\n",
      "image 1/1 D:\\Labeeq\\MLProjects\\Brain Tumor Detection\\test_images\\glioma_9.jpg: 640x640 1 glioma, 181.1ms\n",
      "Speed: 6.8ms preprocess, 181.1ms inference, 2.1ms postprocess per image at shape (1, 3, 640, 640)\n",
      "Results saved to \u001b[1mruns\\segment\\predict2\u001b[0m\n"
     ]
    }
   ],
   "source": [
    "from ultralytics import YOLO\n",
    "from ultralytics import SAM\n",
    "\n",
    "yolo_model = YOLO(\"runs/detect/train/weights/best.pt\")\n",
    "\n",
    "results = yolo_model(\"test_images/glioma_9.jpg\")\n",
    "\n",
    "sam_model = SAM(\"sam2_b.pt\")\n",
    "\n",
    "for result in results:\n",
    "    class_ids = result.boxes.cls.int().tolist()\n",
    "    if len(class_ids):\n",
    "        boxes = result.boxes.xyxy\n",
    "        sam_results = sam_model(result.orig_img, bboxes = boxes, verbose = False, save = True, device = 'cpu')"
   ]
  },
  {
   "cell_type": "code",
   "execution_count": 23,
   "id": "3727fc23-bcec-4c8d-83e9-d1fd488a5360",
   "metadata": {},
   "outputs": [
    {
     "name": "stdout",
     "output_type": "stream",
     "text": [
      "\n",
      "image 1/1 D:\\Labeeq\\MLProjects\\Brain Tumor Detection\\test_images\\no_tumor_14.jpg: 640x640 1 NO_tumor, 176.0ms\n",
      "Speed: 2.9ms preprocess, 176.0ms inference, 1.5ms postprocess per image at shape (1, 3, 640, 640)\n",
      "Results saved to \u001b[1mruns\\segment\\predict3\u001b[0m\n"
     ]
    }
   ],
   "source": [
    "from ultralytics import YOLO\n",
    "from ultralytics import SAM\n",
    "\n",
    "yolo_model = YOLO(\"runs/detect/train/weights/best.pt\")\n",
    "\n",
    "results = yolo_model(\"test_images/no_tumor_14.jpg\")\n",
    "\n",
    "sam_model = SAM(\"sam2_b.pt\")\n",
    "\n",
    "for result in results:\n",
    "    class_ids = result.boxes.cls.int().tolist()\n",
    "    if len(class_ids):\n",
    "        boxes = result.boxes.xyxy\n",
    "        sam_results = sam_model(result.orig_img, bboxes = boxes, verbose = False, save = True, device = 'cpu')"
   ]
  },
  {
   "cell_type": "code",
   "execution_count": 24,
   "id": "12978670-9a53-4928-9295-e0274047a8f6",
   "metadata": {},
   "outputs": [
    {
     "name": "stdout",
     "output_type": "stream",
     "text": [
      "\n",
      "image 1/1 D:\\Labeeq\\MLProjects\\Brain Tumor Detection\\test_images\\pituitary_1.jpg: 640x640 2 pituitarys, 123.5ms\n",
      "Speed: 3.6ms preprocess, 123.5ms inference, 1.1ms postprocess per image at shape (1, 3, 640, 640)\n",
      "Results saved to \u001b[1mruns\\segment\\predict4\u001b[0m\n"
     ]
    }
   ],
   "source": [
    "from ultralytics import YOLO\n",
    "from ultralytics import SAM\n",
    "\n",
    "yolo_model = YOLO(\"runs/detect/train/weights/best.pt\")\n",
    "\n",
    "results = yolo_model(\"test_images/pituitary_1.jpg\")\n",
    "\n",
    "sam_model = SAM(\"sam2_b.pt\")\n",
    "\n",
    "for result in results:\n",
    "    class_ids = result.boxes.cls.int().tolist()\n",
    "    if len(class_ids):\n",
    "        boxes = result.boxes.xyxy\n",
    "        sam_results = sam_model(result.orig_img, bboxes = boxes, verbose = False, save = True, device = 'cpu')"
   ]
  },
  {
   "cell_type": "code",
   "execution_count": null,
   "id": "67b35626-f35e-4d16-bb05-33a800264d7e",
   "metadata": {},
   "outputs": [],
   "source": []
  }
 ],
 "metadata": {
  "kernelspec": {
   "display_name": "Python 3 (ipykernel)",
   "language": "python",
   "name": "python3"
  },
  "language_info": {
   "codemirror_mode": {
    "name": "ipython",
    "version": 3
   },
   "file_extension": ".py",
   "mimetype": "text/x-python",
   "name": "python",
   "nbconvert_exporter": "python",
   "pygments_lexer": "ipython3",
   "version": "3.10.11"
  }
 },
 "nbformat": 4,
 "nbformat_minor": 5
}
